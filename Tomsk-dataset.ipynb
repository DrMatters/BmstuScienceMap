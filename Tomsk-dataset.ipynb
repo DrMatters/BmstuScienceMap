{
 "cells": [
  {
   "cell_type": "code",
   "execution_count": 14,
   "metadata": {},
   "outputs": [],
   "source": [
    "import pandas as pd\n",
    "import numpy as np\n",
    "from itertools import combinations\n",
    "import fileinput"
   ]
  },
  {
   "cell_type": "code",
   "execution_count": 39,
   "metadata": {},
   "outputs": [],
   "source": [
    "quartiles = 'q1|q2|q3|q4' #arg\n",
    "quartiles = quartiles.lower()\n",
    "drop_without_quartile = False if 'q4' in quartiles else True"
   ]
  },
  {
   "cell_type": "code",
   "execution_count": 48,
   "metadata": {},
   "outputs": [
    {
     "name": "stdout",
     "output_type": "stream",
     "text": [
      "10435\n",
      "10435\n"
     ]
    },
    {
     "data": {
      "text/html": [
       "<div>\n",
       "<style scoped>\n",
       "    .dataframe tbody tr th:only-of-type {\n",
       "        vertical-align: middle;\n",
       "    }\n",
       "\n",
       "    .dataframe tbody tr th {\n",
       "        vertical-align: top;\n",
       "    }\n",
       "\n",
       "    .dataframe thead th {\n",
       "        text-align: right;\n",
       "    }\n",
       "</style>\n",
       "<table border=\"1\" class=\"dataframe\">\n",
       "  <thead>\n",
       "    <tr style=\"text-align: right;\">\n",
       "      <th></th>\n",
       "      <th>Авторы</th>\n",
       "      <th>ids</th>\n",
       "      <th>Авторы организаций</th>\n",
       "    </tr>\n",
       "  </thead>\n",
       "  <tbody>\n",
       "    <tr>\n",
       "      <th>0</th>\n",
       "      <td>Krysko V.A., Awrejcewicz J., Saltykova O.A., P...</td>\n",
       "      <td>55979305600;7007114678;25923043300;25629941900...</td>\n",
       "      <td>Krysko, V.A., Department of Mathematics and Mo...</td>\n",
       "    </tr>\n",
       "    <tr>\n",
       "      <th>1</th>\n",
       "      <td>Kotolevich Y., Martynyuk O., Martínez-González...</td>\n",
       "      <td>54894420000;57195495114;57191755469;6506382082...</td>\n",
       "      <td>Kotolevich, Y., Centro de Nanociencias y Nanot...</td>\n",
       "    </tr>\n",
       "    <tr>\n",
       "      <th>2</th>\n",
       "      <td>Sivkov A., Rakhmatullin I., Shanenkov I., Shan...</td>\n",
       "      <td>6603933306;45061101100;57203837304;57194637866;</td>\n",
       "      <td>Sivkov, A., School of Energy and Power Enginee...</td>\n",
       "    </tr>\n",
       "    <tr>\n",
       "      <th>3</th>\n",
       "      <td>Chursin Y.A., Redko L.A., Fedorov E.M.</td>\n",
       "      <td>50161309100;36730481500;55246985800;</td>\n",
       "      <td>Chursin, Y.A., National Research Tomsk Polytec...</td>\n",
       "    </tr>\n",
       "    <tr>\n",
       "      <th>4</th>\n",
       "      <td>Ghosh J., Jayakody D.N.K., Qaraqe M., Tsiftsis...</td>\n",
       "      <td>55995110900;37035962700;57201290681;35613331800;</td>\n",
       "      <td>Ghosh, J., School of Computer Science and Robo...</td>\n",
       "    </tr>\n",
       "  </tbody>\n",
       "</table>\n",
       "</div>"
      ],
      "text/plain": [
       "                                              Авторы  \\\n",
       "0  Krysko V.A., Awrejcewicz J., Saltykova O.A., P...   \n",
       "1  Kotolevich Y., Martynyuk O., Martínez-González...   \n",
       "2  Sivkov A., Rakhmatullin I., Shanenkov I., Shan...   \n",
       "3             Chursin Y.A., Redko L.A., Fedorov E.M.   \n",
       "4  Ghosh J., Jayakody D.N.K., Qaraqe M., Tsiftsis...   \n",
       "\n",
       "                                                 ids  \\\n",
       "0  55979305600;7007114678;25923043300;25629941900...   \n",
       "1  54894420000;57195495114;57191755469;6506382082...   \n",
       "2    6603933306;45061101100;57203837304;57194637866;   \n",
       "3               50161309100;36730481500;55246985800;   \n",
       "4   55995110900;37035962700;57201290681;35613331800;   \n",
       "\n",
       "                                  Авторы организаций  \n",
       "0  Krysko, V.A., Department of Mathematics and Mo...  \n",
       "1  Kotolevich, Y., Centro de Nanociencias y Nanot...  \n",
       "2  Sivkov, A., School of Energy and Power Enginee...  \n",
       "3  Chursin, Y.A., National Research Tomsk Polytec...  \n",
       "4  Ghosh, J., School of Computer Science and Robo...  "
      ]
     },
     "execution_count": 48,
     "metadata": {},
     "output_type": "execute_result"
    }
   ],
   "source": [
    "core_df = pd.read_excel('scopus-Tomsk.xlsx', na_values='Q-нет'). \\\n",
    "loc[:, ['Авторы', 'Квартиль', 'Идентификаторы авторов', 'Авторы организаций']]\n",
    "core_df = core_df.loc[core_df.loc[:, 'Авторы'].notnull(), :]\n",
    "print(len(core_df))\n",
    "core_df = core_df.loc[core_df.loc[:, 'Квартиль'].str. \\\n",
    "                      lower().str. \\\n",
    "                      contains(quartiles,na=(not drop_without_quartile)) , :]\n",
    "core_df = core_df.loc[:, ['Авторы', 'Идентификаторы авторов', 'Авторы организаций']].rename(columns={'Идентификаторы авторов':'ids'})\n",
    "print(len(core_df))\n",
    "core_df.head()"
   ]
  },
  {
   "cell_type": "markdown",
   "metadata": {},
   "source": [
    "has_scopus_name = lambda row: False if row['Издание'].find('Scopus') == -1 else True\n",
    "core_df['Scopus'] = core_df.apply(has_scopus_name, axis=1)\n",
    "core_df = core_df[core_df['Scopus']]"
   ]
  },
  {
   "cell_type": "markdown",
   "metadata": {
    "scrolled": true
   },
   "source": [
    "row = core_df.loc[a, :].iloc[0]\n",
    "row"
   ]
  },
  {
   "cell_type": "code",
   "execution_count": 50,
   "metadata": {},
   "outputs": [
    {
     "data": {
      "text/plain": [
       "Авторы                Krysko V.A., Awrejcewicz J., Saltykova O.A., P...\n",
       "ids                   55979305600;7007114678;25923043300;25629941900...\n",
       "Авторы организаций    Krysko, V.A., Department of Mathematics and Mo...\n",
       "Name: 0, dtype: object"
      ]
     },
     "execution_count": 50,
     "metadata": {},
     "output_type": "execute_result"
    }
   ],
   "source": [
    "row = core_df.loc[0, :]\n",
    "row"
   ]
  },
  {
   "cell_type": "code",
   "execution_count": 58,
   "metadata": {},
   "outputs": [
    {
     "data": {
      "text/plain": [
       "['Krysko, V.A., Department of Mathematics and Modelling, Saratov State Technical University, Politehnicheskaya 77, Saratov, 410054, Russian Federation',\n",
       " ' Awrejcewicz, J., Department of Automation, Biomechanics and Mechatronics, Lodz University of Technology, 1/15 Stefanowskiego Str., Lodz, 90-924, Poland',\n",
       " ' Saltykova, O.A., Department of Mathematics and Modelling, Saratov State Technical University, Politehnicheskaya 77, Saratov, 410054, Russian Federation, Cybernetic Institute, National Research Tomsk Polytechnic University, 30 Lenin Avenue, Tomsk, 634050, Russian Federation',\n",
       " ' Papkova, I.V., Department of Mathematics and Modelling, Saratov State Technical University, Politehnicheskaya 77, Saratov, 410054, Russian Federation',\n",
       " ' Krysko, A.V., Cybernetic Institute, National Research Tomsk Polytechnic University, 30 Lenin Avenue, Tomsk, 634050, Russian Federation, Department of Applied Mathematics and Systems Analysis, Saratov State Technical University, Politehnicheskaya 77, Saratov, 410054, Russian Federation']"
      ]
     },
     "execution_count": 58,
     "metadata": {},
     "output_type": "execute_result"
    }
   ],
   "source": [
    "stucked_str.split(';')"
   ]
  },
  {
   "cell_type": "code",
   "execution_count": 67,
   "metadata": {},
   "outputs": [],
   "source": [
    "srs = pd.Series(stucked_str.split(';')).str.strip()"
   ]
  },
  {
   "cell_type": "code",
   "execution_count": 68,
   "metadata": {},
   "outputs": [
    {
     "data": {
      "text/plain": [
       "2    Saltykova, O.A., Department of Mathematics and...\n",
       "4    Krysko, A.V., Cybernetic Institute, National R...\n",
       "dtype: object"
      ]
     },
     "execution_count": 68,
     "metadata": {},
     "output_type": "execute_result"
    }
   ],
   "source": [
    "srs = srs[srs.str.contains('Tomsk', case=False)]\n",
    "srs"
   ]
  },
  {
   "cell_type": "code",
   "execution_count": 97,
   "metadata": {},
   "outputs": [],
   "source": [
    "ids = row['ids']\n",
    "ids = ids.split(';')\n",
    "ids = pd.Series(ids)"
   ]
  },
  {
   "cell_type": "code",
   "execution_count": 98,
   "metadata": {},
   "outputs": [
    {
     "data": {
      "text/plain": [
       "2    25923043300\n",
       "4     6508391995\n",
       "dtype: object"
      ]
     },
     "execution_count": 98,
     "metadata": {},
     "output_type": "execute_result"
    }
   ],
   "source": [
    "ids.loc[srs.index]"
   ]
  },
  {
   "cell_type": "code",
   "execution_count": 84,
   "metadata": {},
   "outputs": [
    {
     "data": {
      "text/html": [
       "<div>\n",
       "<style scoped>\n",
       "    .dataframe tbody tr th:only-of-type {\n",
       "        vertical-align: middle;\n",
       "    }\n",
       "\n",
       "    .dataframe tbody tr th {\n",
       "        vertical-align: top;\n",
       "    }\n",
       "\n",
       "    .dataframe thead th {\n",
       "        text-align: right;\n",
       "    }\n",
       "</style>\n",
       "<table border=\"1\" class=\"dataframe\">\n",
       "  <thead>\n",
       "    <tr style=\"text-align: right;\">\n",
       "      <th></th>\n",
       "      <th>0</th>\n",
       "      <th>1</th>\n",
       "    </tr>\n",
       "  </thead>\n",
       "  <tbody>\n",
       "    <tr>\n",
       "      <th>0</th>\n",
       "      <td>Saltykova, O.A</td>\n",
       "      <td>Department of Mathematics and Modelling, Sara...</td>\n",
       "    </tr>\n",
       "    <tr>\n",
       "      <th>1</th>\n",
       "      <td>Krysko, A.V</td>\n",
       "      <td>Cybernetic Institute, National Research Tomsk...</td>\n",
       "    </tr>\n",
       "  </tbody>\n",
       "</table>\n",
       "</div>"
      ],
      "text/plain": [
       "                0                                                  1\n",
       "0  Saltykova, O.A   Department of Mathematics and Modelling, Sara...\n",
       "1     Krysko, A.V   Cybernetic Institute, National Research Tomsk..."
      ]
     },
     "execution_count": 84,
     "metadata": {},
     "output_type": "execute_result"
    }
   ],
   "source": [
    "pd.DataFrame(srs.str.split('\\.,', n=1).tolist())"
   ]
  },
  {
   "cell_type": "code",
   "execution_count": null,
   "metadata": {},
   "outputs": [],
   "source": []
  },
  {
   "cell_type": "code",
   "execution_count": 41,
   "metadata": {},
   "outputs": [],
   "source": [
    "def split(stucked_str, delimiter):\n",
    "    srs = pd.Series(stucked_str.split(delimiter))\n",
    "    srs = srs.str.strip()\n",
    "    return srs"
   ]
  },
  {
   "cell_type": "markdown",
   "metadata": {},
   "source": [
    "names = split((row['Авторы'] + ', JR., kjjk.f'), ',')\n",
    "names[~names.str.contains('JR.')]"
   ]
  },
  {
   "cell_type": "markdown",
   "metadata": {},
   "source": [
    "authors = {}\n",
    "authors_pairs = {}"
   ]
  },
  {
   "cell_type": "markdown",
   "metadata": {},
   "source": [
    "names = split(row['Авторы'], ',')\n",
    "if (any(names.str.contains('JR', case=False) == True)): #what does 'JR.' after name means? skip those\n",
    "    print(\"FUUUUuuUUUUUUUUU\")\n",
    "ids = split(row['ids'], ';')\n",
    "ids = ids[ids.str.isnumeric()] # filter empty strings"
   ]
  },
  {
   "cell_type": "markdown",
   "metadata": {},
   "source": [
    "names = split(row['Авторы'], ',')\n",
    "if (any(names.str.contains('JR', case=False) == True)): #what does 'JR.' after name means? skip those\n",
    "    print(\"FUUUUuuUUUUUUUUU\")\n",
    "ids = split(row['ids'], ';')\n",
    "ids = ids[ids.str.isnumeric()] # filter empty strings\n",
    "\n",
    "for i in range(len(names)):\n",
    "    authors.setdefault(ids[i], {'name':names[i], 'pub':0}) # add to dict 'authors' [id] -> (name, 0 {pulications})\n",
    "    authors[ids[i]]['pub'] += 1\n",
    "\n",
    "ids_pairs = combinations(ids, 2)\n",
    "for pair in ids_pairs:\n",
    "    pair = tuple(sorted(pair))\n",
    "    if pair[0] == pair[1]:\n",
    "        continue\n",
    "    authors_pairs.setdefault(pair, 0)\n",
    "    authors_pairs[pair] += 1"
   ]
  },
  {
   "cell_type": "code",
   "execution_count": 42,
   "metadata": {},
   "outputs": [],
   "source": [
    "def process_row(row):\n",
    "    names = split(row['Авторы'], ',')\n",
    "    if (any((names.str.len() <= 3) == True)):   #what does names with less than 3 characters\n",
    "                                                #mean? skip those\n",
    "        return False\n",
    "    ids = split(row['ids'], ';')\n",
    "    ids = ids[ids.str.isnumeric()] # filter empty strings\n",
    "    if len(names) > len(ids):\n",
    "        return True\n",
    "        names = names[:len(ids)]\n",
    "    if len(names) < len(ids):\n",
    "        return True\n",
    "        ids = ids[:len(names)]\n",
    "    \n",
    "    for i in range(len(names)):\n",
    "        authors.setdefault(ids[i], {'name':names[i], 'count':0}) # add to dict 'authors' [id] -> (name, 0 {pulications})\n",
    "        authors[ids[i]]['count'] += 1\n",
    "\n",
    "    ids_pairs = combinations(ids, 2)\n",
    "    for pair in ids_pairs:\n",
    "        pair = tuple(sorted(pair))\n",
    "        if pair[0] == pair[1]:\n",
    "            continue\n",
    "        authors_pairs.setdefault(pair, 0)\n",
    "        authors_pairs[pair] += 1\n",
    "    return False"
   ]
  },
  {
   "cell_type": "code",
   "execution_count": 43,
   "metadata": {},
   "outputs": [],
   "source": [
    "authors = {}\n",
    "authors_pairs = {}\n",
    "\n",
    "_ = core_df.apply(func=process_row, axis=1)"
   ]
  },
  {
   "cell_type": "code",
   "execution_count": 44,
   "metadata": {},
   "outputs": [],
   "source": [
    "authors = pd.DataFrame.from_dict(authors, orient='index')\n",
    "authors = authors.reset_index().rename(columns={'index':'id'}).set_index('id')\n",
    "authors_pairs = pd.DataFrame.from_dict(authors_pairs, orient='index')"
   ]
  },
  {
   "cell_type": "code",
   "execution_count": 45,
   "metadata": {},
   "outputs": [],
   "source": [
    "authors_pairs = authors_pairs.reset_index().rename(columns={0:'count'})"
   ]
  },
  {
   "cell_type": "code",
   "execution_count": 46,
   "metadata": {},
   "outputs": [
    {
     "data": {
      "text/plain": [
       "3139618"
      ]
     },
     "execution_count": 46,
     "metadata": {},
     "output_type": "execute_result"
    }
   ],
   "source": [
    "len(authors_pairs)"
   ]
  },
  {
   "cell_type": "code",
   "execution_count": 12,
   "metadata": {},
   "outputs": [
    {
     "ename": "KeyboardInterrupt",
     "evalue": "",
     "output_type": "error",
     "traceback": [
      "\u001b[0;31m---------------------------------------------------------------------------\u001b[0m",
      "\u001b[0;31mKeyboardInterrupt\u001b[0m                         Traceback (most recent call last)",
      "\u001b[0;32m<ipython-input-12-0ba543b398a3>\u001b[0m in \u001b[0;36m<module>\u001b[0;34m\u001b[0m\n\u001b[0;32m----> 1\u001b[0;31m \u001b[0mauthors_pairs\u001b[0m\u001b[0;34m[\u001b[0m\u001b[0;34m[\u001b[0m\u001b[0;34m'id1'\u001b[0m\u001b[0;34m,\u001b[0m \u001b[0;34m'id2'\u001b[0m\u001b[0;34m]\u001b[0m\u001b[0;34m]\u001b[0m \u001b[0;34m=\u001b[0m \u001b[0mauthors_pairs\u001b[0m\u001b[0;34m.\u001b[0m\u001b[0mloc\u001b[0m\u001b[0;34m[\u001b[0m\u001b[0;34m:\u001b[0m\u001b[0;34m,\u001b[0m \u001b[0;34m'index'\u001b[0m\u001b[0;34m]\u001b[0m\u001b[0;34m.\u001b[0m\u001b[0mapply\u001b[0m\u001b[0;34m(\u001b[0m\u001b[0;32mlambda\u001b[0m \u001b[0mpair\u001b[0m\u001b[0;34m:\u001b[0m \u001b[0mpd\u001b[0m\u001b[0;34m.\u001b[0m\u001b[0mSeries\u001b[0m\u001b[0;34m(\u001b[0m\u001b[0;34m[\u001b[0m\u001b[0mpair\u001b[0m\u001b[0;34m[\u001b[0m\u001b[0;36m0\u001b[0m\u001b[0;34m]\u001b[0m\u001b[0;34m,\u001b[0m \u001b[0mpair\u001b[0m\u001b[0;34m[\u001b[0m\u001b[0;36m1\u001b[0m\u001b[0;34m]\u001b[0m\u001b[0;34m]\u001b[0m\u001b[0;34m)\u001b[0m\u001b[0;34m)\u001b[0m\u001b[0;34m\u001b[0m\u001b[0m\n\u001b[0m",
      "\u001b[0;32m~/.local/share/virtualenvs/new-kernel-4-4k1TRchP/lib/python3.7/site-packages/pandas/core/series.py\u001b[0m in \u001b[0;36mapply\u001b[0;34m(self, func, convert_dtype, args, **kwds)\u001b[0m\n\u001b[1;32m   3192\u001b[0m             \u001b[0;32melse\u001b[0m\u001b[0;34m:\u001b[0m\u001b[0;34m\u001b[0m\u001b[0m\n\u001b[1;32m   3193\u001b[0m                 \u001b[0mvalues\u001b[0m \u001b[0;34m=\u001b[0m \u001b[0mself\u001b[0m\u001b[0;34m.\u001b[0m\u001b[0mastype\u001b[0m\u001b[0;34m(\u001b[0m\u001b[0mobject\u001b[0m\u001b[0;34m)\u001b[0m\u001b[0;34m.\u001b[0m\u001b[0mvalues\u001b[0m\u001b[0;34m\u001b[0m\u001b[0m\n\u001b[0;32m-> 3194\u001b[0;31m                 \u001b[0mmapped\u001b[0m \u001b[0;34m=\u001b[0m \u001b[0mlib\u001b[0m\u001b[0;34m.\u001b[0m\u001b[0mmap_infer\u001b[0m\u001b[0;34m(\u001b[0m\u001b[0mvalues\u001b[0m\u001b[0;34m,\u001b[0m \u001b[0mf\u001b[0m\u001b[0;34m,\u001b[0m \u001b[0mconvert\u001b[0m\u001b[0;34m=\u001b[0m\u001b[0mconvert_dtype\u001b[0m\u001b[0;34m)\u001b[0m\u001b[0;34m\u001b[0m\u001b[0m\n\u001b[0m\u001b[1;32m   3195\u001b[0m \u001b[0;34m\u001b[0m\u001b[0m\n\u001b[1;32m   3196\u001b[0m         \u001b[0;32mif\u001b[0m \u001b[0mlen\u001b[0m\u001b[0;34m(\u001b[0m\u001b[0mmapped\u001b[0m\u001b[0;34m)\u001b[0m \u001b[0;32mand\u001b[0m \u001b[0misinstance\u001b[0m\u001b[0;34m(\u001b[0m\u001b[0mmapped\u001b[0m\u001b[0;34m[\u001b[0m\u001b[0;36m0\u001b[0m\u001b[0;34m]\u001b[0m\u001b[0;34m,\u001b[0m \u001b[0mSeries\u001b[0m\u001b[0;34m)\u001b[0m\u001b[0;34m:\u001b[0m\u001b[0;34m\u001b[0m\u001b[0m\n",
      "\u001b[0;32mpandas/_libs/src/inference.pyx\u001b[0m in \u001b[0;36mpandas._libs.lib.map_infer\u001b[0;34m()\u001b[0m\n",
      "\u001b[0;32m<ipython-input-12-0ba543b398a3>\u001b[0m in \u001b[0;36m<lambda>\u001b[0;34m(pair)\u001b[0m\n\u001b[0;32m----> 1\u001b[0;31m \u001b[0mauthors_pairs\u001b[0m\u001b[0;34m[\u001b[0m\u001b[0;34m[\u001b[0m\u001b[0;34m'id1'\u001b[0m\u001b[0;34m,\u001b[0m \u001b[0;34m'id2'\u001b[0m\u001b[0;34m]\u001b[0m\u001b[0;34m]\u001b[0m \u001b[0;34m=\u001b[0m \u001b[0mauthors_pairs\u001b[0m\u001b[0;34m.\u001b[0m\u001b[0mloc\u001b[0m\u001b[0;34m[\u001b[0m\u001b[0;34m:\u001b[0m\u001b[0;34m,\u001b[0m \u001b[0;34m'index'\u001b[0m\u001b[0;34m]\u001b[0m\u001b[0;34m.\u001b[0m\u001b[0mapply\u001b[0m\u001b[0;34m(\u001b[0m\u001b[0;32mlambda\u001b[0m \u001b[0mpair\u001b[0m\u001b[0;34m:\u001b[0m \u001b[0mpd\u001b[0m\u001b[0;34m.\u001b[0m\u001b[0mSeries\u001b[0m\u001b[0;34m(\u001b[0m\u001b[0;34m[\u001b[0m\u001b[0mpair\u001b[0m\u001b[0;34m[\u001b[0m\u001b[0;36m0\u001b[0m\u001b[0;34m]\u001b[0m\u001b[0;34m,\u001b[0m \u001b[0mpair\u001b[0m\u001b[0;34m[\u001b[0m\u001b[0;36m1\u001b[0m\u001b[0;34m]\u001b[0m\u001b[0;34m]\u001b[0m\u001b[0;34m)\u001b[0m\u001b[0;34m)\u001b[0m\u001b[0;34m\u001b[0m\u001b[0m\n\u001b[0m",
      "\u001b[0;32m~/.local/share/virtualenvs/new-kernel-4-4k1TRchP/lib/python3.7/site-packages/pandas/core/series.py\u001b[0m in \u001b[0;36m__init__\u001b[0;34m(self, data, index, dtype, name, copy, fastpath)\u001b[0m\n\u001b[1;32m    273\u001b[0m             \u001b[0;32melse\u001b[0m\u001b[0;34m:\u001b[0m\u001b[0;34m\u001b[0m\u001b[0m\n\u001b[1;32m    274\u001b[0m                 data = _sanitize_array(data, index, dtype, copy,\n\u001b[0;32m--> 275\u001b[0;31m                                        raise_cast_failure=True)\n\u001b[0m\u001b[1;32m    276\u001b[0m \u001b[0;34m\u001b[0m\u001b[0m\n\u001b[1;32m    277\u001b[0m                 \u001b[0mdata\u001b[0m \u001b[0;34m=\u001b[0m \u001b[0mSingleBlockManager\u001b[0m\u001b[0;34m(\u001b[0m\u001b[0mdata\u001b[0m\u001b[0;34m,\u001b[0m \u001b[0mindex\u001b[0m\u001b[0;34m,\u001b[0m \u001b[0mfastpath\u001b[0m\u001b[0;34m=\u001b[0m\u001b[0;32mTrue\u001b[0m\u001b[0;34m)\u001b[0m\u001b[0;34m\u001b[0m\u001b[0m\n",
      "\u001b[0;32m~/.local/share/virtualenvs/new-kernel-4-4k1TRchP/lib/python3.7/site-packages/pandas/core/series.py\u001b[0m in \u001b[0;36m_sanitize_array\u001b[0;34m(data, index, dtype, copy, raise_cast_failure)\u001b[0m\n\u001b[1;32m   4120\u001b[0m \u001b[0;34m\u001b[0m\u001b[0m\n\u001b[1;32m   4121\u001b[0m         \u001b[0;32melse\u001b[0m\u001b[0;34m:\u001b[0m\u001b[0;34m\u001b[0m\u001b[0m\n\u001b[0;32m-> 4122\u001b[0;31m             \u001b[0msubarr\u001b[0m \u001b[0;34m=\u001b[0m \u001b[0mmaybe_convert_platform\u001b[0m\u001b[0;34m(\u001b[0m\u001b[0mdata\u001b[0m\u001b[0;34m)\u001b[0m\u001b[0;34m\u001b[0m\u001b[0m\n\u001b[0m\u001b[1;32m   4123\u001b[0m \u001b[0;34m\u001b[0m\u001b[0m\n\u001b[1;32m   4124\u001b[0m         \u001b[0msubarr\u001b[0m \u001b[0;34m=\u001b[0m \u001b[0mmaybe_cast_to_datetime\u001b[0m\u001b[0;34m(\u001b[0m\u001b[0msubarr\u001b[0m\u001b[0;34m,\u001b[0m \u001b[0mdtype\u001b[0m\u001b[0;34m)\u001b[0m\u001b[0;34m\u001b[0m\u001b[0m\n",
      "\u001b[0;32m~/.local/share/virtualenvs/new-kernel-4-4k1TRchP/lib/python3.7/site-packages/pandas/core/dtypes/cast.py\u001b[0m in \u001b[0;36mmaybe_convert_platform\u001b[0;34m(values)\u001b[0m\n\u001b[1;32m     50\u001b[0m         \u001b[0;32mif\u001b[0m \u001b[0mhasattr\u001b[0m\u001b[0;34m(\u001b[0m\u001b[0mvalues\u001b[0m\u001b[0;34m,\u001b[0m \u001b[0;34m'_values'\u001b[0m\u001b[0;34m)\u001b[0m\u001b[0;34m:\u001b[0m\u001b[0;34m\u001b[0m\u001b[0m\n\u001b[1;32m     51\u001b[0m             \u001b[0mvalues\u001b[0m \u001b[0;34m=\u001b[0m \u001b[0mvalues\u001b[0m\u001b[0;34m.\u001b[0m\u001b[0m_values\u001b[0m\u001b[0;34m\u001b[0m\u001b[0m\n\u001b[0;32m---> 52\u001b[0;31m         \u001b[0mvalues\u001b[0m \u001b[0;34m=\u001b[0m \u001b[0mlib\u001b[0m\u001b[0;34m.\u001b[0m\u001b[0mmaybe_convert_objects\u001b[0m\u001b[0;34m(\u001b[0m\u001b[0mvalues\u001b[0m\u001b[0;34m)\u001b[0m\u001b[0;34m\u001b[0m\u001b[0m\n\u001b[0m\u001b[1;32m     53\u001b[0m \u001b[0;34m\u001b[0m\u001b[0m\n\u001b[1;32m     54\u001b[0m     \u001b[0;32mreturn\u001b[0m \u001b[0mvalues\u001b[0m\u001b[0;34m\u001b[0m\u001b[0m\n",
      "\u001b[0;31mKeyboardInterrupt\u001b[0m: "
     ]
    }
   ],
   "source": [
    "authors_pairs[['id1', 'id2']] = authors_pairs.loc[:, 'index'].apply(lambda pair: pd.Series([pair[0], pair[1]]))"
   ]
  },
  {
   "cell_type": "code",
   "execution_count": null,
   "metadata": {},
   "outputs": [],
   "source": [
    "authors_pairs = authors_pairs.reset_index().rename(columns={0:'count'})"
   ]
  },
  {
   "cell_type": "code",
   "execution_count": null,
   "metadata": {},
   "outputs": [],
   "source": [
    "authors_pairs = authors_pairs.loc[:, ['count', 'id1', 'id2']]"
   ]
  },
  {
   "cell_type": "code",
   "execution_count": 7,
   "metadata": {},
   "outputs": [
    {
     "ename": "KeyboardInterrupt",
     "evalue": "",
     "output_type": "error",
     "traceback": [
      "\u001b[0;31m---------------------------------------------------------------------------\u001b[0m",
      "\u001b[0;31mKeyboardInterrupt\u001b[0m                         Traceback (most recent call last)",
      "\u001b[0;32m<ipython-input-7-495d09a82b53>\u001b[0m in \u001b[0;36m<module>\u001b[0;34m\u001b[0m\n\u001b[1;32m      5\u001b[0m \u001b[0mauthors_pairs\u001b[0m \u001b[0;34m=\u001b[0m \u001b[0mauthors_pairs\u001b[0m\u001b[0;34m.\u001b[0m\u001b[0mreset_index\u001b[0m\u001b[0;34m(\u001b[0m\u001b[0;34m)\u001b[0m\u001b[0;34m.\u001b[0m\u001b[0mrename\u001b[0m\u001b[0;34m(\u001b[0m\u001b[0mcolumns\u001b[0m\u001b[0;34m=\u001b[0m\u001b[0;34m{\u001b[0m\u001b[0;36m0\u001b[0m\u001b[0;34m:\u001b[0m\u001b[0;34m'count'\u001b[0m\u001b[0;34m}\u001b[0m\u001b[0;34m)\u001b[0m\u001b[0;34m\u001b[0m\u001b[0m\n\u001b[1;32m      6\u001b[0m \u001b[0;34m\u001b[0m\u001b[0m\n\u001b[0;32m----> 7\u001b[0;31m \u001b[0mauthors_pairs\u001b[0m\u001b[0;34m[\u001b[0m\u001b[0;34m[\u001b[0m\u001b[0;34m'id1'\u001b[0m\u001b[0;34m,\u001b[0m \u001b[0;34m'id2'\u001b[0m\u001b[0;34m]\u001b[0m\u001b[0;34m]\u001b[0m \u001b[0;34m=\u001b[0m \u001b[0mauthors_pairs\u001b[0m\u001b[0;34m.\u001b[0m\u001b[0mloc\u001b[0m\u001b[0;34m[\u001b[0m\u001b[0;34m:\u001b[0m\u001b[0;34m,\u001b[0m \u001b[0;34m'index'\u001b[0m\u001b[0;34m]\u001b[0m\u001b[0;34m.\u001b[0m\u001b[0mapply\u001b[0m\u001b[0;34m(\u001b[0m\u001b[0;32mlambda\u001b[0m \u001b[0mpair\u001b[0m\u001b[0;34m:\u001b[0m \u001b[0mpd\u001b[0m\u001b[0;34m.\u001b[0m\u001b[0mSeries\u001b[0m\u001b[0;34m(\u001b[0m\u001b[0;34m[\u001b[0m\u001b[0mpair\u001b[0m\u001b[0;34m[\u001b[0m\u001b[0;36m0\u001b[0m\u001b[0;34m]\u001b[0m\u001b[0;34m,\u001b[0m \u001b[0mpair\u001b[0m\u001b[0;34m[\u001b[0m\u001b[0;36m1\u001b[0m\u001b[0;34m]\u001b[0m\u001b[0;34m]\u001b[0m\u001b[0;34m)\u001b[0m\u001b[0;34m)\u001b[0m\u001b[0;34m\u001b[0m\u001b[0m\n\u001b[0m\u001b[1;32m      8\u001b[0m \u001b[0;34m\u001b[0m\u001b[0m\n\u001b[1;32m      9\u001b[0m \u001b[0mauthors_pairs\u001b[0m \u001b[0;34m=\u001b[0m \u001b[0mauthors_pairs\u001b[0m\u001b[0;34m.\u001b[0m\u001b[0mloc\u001b[0m\u001b[0;34m[\u001b[0m\u001b[0;34m:\u001b[0m\u001b[0;34m,\u001b[0m \u001b[0;34m[\u001b[0m\u001b[0;34m'count'\u001b[0m\u001b[0;34m,\u001b[0m \u001b[0;34m'id1'\u001b[0m\u001b[0;34m,\u001b[0m \u001b[0;34m'id2'\u001b[0m\u001b[0;34m]\u001b[0m\u001b[0;34m]\u001b[0m\u001b[0;34m\u001b[0m\u001b[0m\n",
      "\u001b[0;32m~/.local/share/virtualenvs/new-kernel-4-4k1TRchP/lib/python3.7/site-packages/pandas/core/series.py\u001b[0m in \u001b[0;36mapply\u001b[0;34m(self, func, convert_dtype, args, **kwds)\u001b[0m\n\u001b[1;32m   3192\u001b[0m             \u001b[0;32melse\u001b[0m\u001b[0;34m:\u001b[0m\u001b[0;34m\u001b[0m\u001b[0m\n\u001b[1;32m   3193\u001b[0m                 \u001b[0mvalues\u001b[0m \u001b[0;34m=\u001b[0m \u001b[0mself\u001b[0m\u001b[0;34m.\u001b[0m\u001b[0mastype\u001b[0m\u001b[0;34m(\u001b[0m\u001b[0mobject\u001b[0m\u001b[0;34m)\u001b[0m\u001b[0;34m.\u001b[0m\u001b[0mvalues\u001b[0m\u001b[0;34m\u001b[0m\u001b[0m\n\u001b[0;32m-> 3194\u001b[0;31m                 \u001b[0mmapped\u001b[0m \u001b[0;34m=\u001b[0m \u001b[0mlib\u001b[0m\u001b[0;34m.\u001b[0m\u001b[0mmap_infer\u001b[0m\u001b[0;34m(\u001b[0m\u001b[0mvalues\u001b[0m\u001b[0;34m,\u001b[0m \u001b[0mf\u001b[0m\u001b[0;34m,\u001b[0m \u001b[0mconvert\u001b[0m\u001b[0;34m=\u001b[0m\u001b[0mconvert_dtype\u001b[0m\u001b[0;34m)\u001b[0m\u001b[0;34m\u001b[0m\u001b[0m\n\u001b[0m\u001b[1;32m   3195\u001b[0m \u001b[0;34m\u001b[0m\u001b[0m\n\u001b[1;32m   3196\u001b[0m         \u001b[0;32mif\u001b[0m \u001b[0mlen\u001b[0m\u001b[0;34m(\u001b[0m\u001b[0mmapped\u001b[0m\u001b[0;34m)\u001b[0m \u001b[0;32mand\u001b[0m \u001b[0misinstance\u001b[0m\u001b[0;34m(\u001b[0m\u001b[0mmapped\u001b[0m\u001b[0;34m[\u001b[0m\u001b[0;36m0\u001b[0m\u001b[0;34m]\u001b[0m\u001b[0;34m,\u001b[0m \u001b[0mSeries\u001b[0m\u001b[0;34m)\u001b[0m\u001b[0;34m:\u001b[0m\u001b[0;34m\u001b[0m\u001b[0m\n",
      "\u001b[0;32mpandas/_libs/src/inference.pyx\u001b[0m in \u001b[0;36mpandas._libs.lib.map_infer\u001b[0;34m()\u001b[0m\n",
      "\u001b[0;32m<ipython-input-7-495d09a82b53>\u001b[0m in \u001b[0;36m<lambda>\u001b[0;34m(pair)\u001b[0m\n\u001b[1;32m      5\u001b[0m \u001b[0mauthors_pairs\u001b[0m \u001b[0;34m=\u001b[0m \u001b[0mauthors_pairs\u001b[0m\u001b[0;34m.\u001b[0m\u001b[0mreset_index\u001b[0m\u001b[0;34m(\u001b[0m\u001b[0;34m)\u001b[0m\u001b[0;34m.\u001b[0m\u001b[0mrename\u001b[0m\u001b[0;34m(\u001b[0m\u001b[0mcolumns\u001b[0m\u001b[0;34m=\u001b[0m\u001b[0;34m{\u001b[0m\u001b[0;36m0\u001b[0m\u001b[0;34m:\u001b[0m\u001b[0;34m'count'\u001b[0m\u001b[0;34m}\u001b[0m\u001b[0;34m)\u001b[0m\u001b[0;34m\u001b[0m\u001b[0m\n\u001b[1;32m      6\u001b[0m \u001b[0;34m\u001b[0m\u001b[0m\n\u001b[0;32m----> 7\u001b[0;31m \u001b[0mauthors_pairs\u001b[0m\u001b[0;34m[\u001b[0m\u001b[0;34m[\u001b[0m\u001b[0;34m'id1'\u001b[0m\u001b[0;34m,\u001b[0m \u001b[0;34m'id2'\u001b[0m\u001b[0;34m]\u001b[0m\u001b[0;34m]\u001b[0m \u001b[0;34m=\u001b[0m \u001b[0mauthors_pairs\u001b[0m\u001b[0;34m.\u001b[0m\u001b[0mloc\u001b[0m\u001b[0;34m[\u001b[0m\u001b[0;34m:\u001b[0m\u001b[0;34m,\u001b[0m \u001b[0;34m'index'\u001b[0m\u001b[0;34m]\u001b[0m\u001b[0;34m.\u001b[0m\u001b[0mapply\u001b[0m\u001b[0;34m(\u001b[0m\u001b[0;32mlambda\u001b[0m \u001b[0mpair\u001b[0m\u001b[0;34m:\u001b[0m \u001b[0mpd\u001b[0m\u001b[0;34m.\u001b[0m\u001b[0mSeries\u001b[0m\u001b[0;34m(\u001b[0m\u001b[0;34m[\u001b[0m\u001b[0mpair\u001b[0m\u001b[0;34m[\u001b[0m\u001b[0;36m0\u001b[0m\u001b[0;34m]\u001b[0m\u001b[0;34m,\u001b[0m \u001b[0mpair\u001b[0m\u001b[0;34m[\u001b[0m\u001b[0;36m1\u001b[0m\u001b[0;34m]\u001b[0m\u001b[0;34m]\u001b[0m\u001b[0;34m)\u001b[0m\u001b[0;34m)\u001b[0m\u001b[0;34m\u001b[0m\u001b[0m\n\u001b[0m\u001b[1;32m      8\u001b[0m \u001b[0;34m\u001b[0m\u001b[0m\n\u001b[1;32m      9\u001b[0m \u001b[0mauthors_pairs\u001b[0m \u001b[0;34m=\u001b[0m \u001b[0mauthors_pairs\u001b[0m\u001b[0;34m.\u001b[0m\u001b[0mloc\u001b[0m\u001b[0;34m[\u001b[0m\u001b[0;34m:\u001b[0m\u001b[0;34m,\u001b[0m \u001b[0;34m[\u001b[0m\u001b[0;34m'count'\u001b[0m\u001b[0;34m,\u001b[0m \u001b[0;34m'id1'\u001b[0m\u001b[0;34m,\u001b[0m \u001b[0;34m'id2'\u001b[0m\u001b[0;34m]\u001b[0m\u001b[0;34m]\u001b[0m\u001b[0;34m\u001b[0m\u001b[0m\n",
      "\u001b[0;32m~/.local/share/virtualenvs/new-kernel-4-4k1TRchP/lib/python3.7/site-packages/pandas/core/series.py\u001b[0m in \u001b[0;36m__init__\u001b[0;34m(self, data, index, dtype, name, copy, fastpath)\u001b[0m\n\u001b[1;32m    228\u001b[0m                                          'be False.')\n\u001b[1;32m    229\u001b[0m \u001b[0;34m\u001b[0m\u001b[0m\n\u001b[0;32m--> 230\u001b[0;31m             \u001b[0;32melif\u001b[0m \u001b[0mis_extension_array_dtype\u001b[0m\u001b[0;34m(\u001b[0m\u001b[0mdata\u001b[0m\u001b[0;34m)\u001b[0m \u001b[0;32mand\u001b[0m \u001b[0mdtype\u001b[0m \u001b[0;32mis\u001b[0m \u001b[0;32mnot\u001b[0m \u001b[0;32mNone\u001b[0m\u001b[0;34m:\u001b[0m\u001b[0;34m\u001b[0m\u001b[0m\n\u001b[0m\u001b[1;32m    231\u001b[0m                 \u001b[0;32mif\u001b[0m \u001b[0;32mnot\u001b[0m \u001b[0mdata\u001b[0m\u001b[0;34m.\u001b[0m\u001b[0mdtype\u001b[0m\u001b[0;34m.\u001b[0m\u001b[0mis_dtype\u001b[0m\u001b[0;34m(\u001b[0m\u001b[0mdtype\u001b[0m\u001b[0;34m)\u001b[0m\u001b[0;34m:\u001b[0m\u001b[0;34m\u001b[0m\u001b[0m\n\u001b[1;32m    232\u001b[0m                     raise ValueError(\"Cannot specify a dtype '{}' with an \"\n",
      "\u001b[0;32m~/.local/share/virtualenvs/new-kernel-4-4k1TRchP/lib/python3.7/site-packages/pandas/core/dtypes/common.py\u001b[0m in \u001b[0;36mis_extension_array_dtype\u001b[0;34m(arr_or_dtype)\u001b[0m\n\u001b[1;32m   1707\u001b[0m     \u001b[0mthis\u001b[0m \u001b[0minterface\u001b[0m \u001b[0;32mas\u001b[0m \u001b[0mwell\u001b[0m\u001b[0;34m.\u001b[0m\u001b[0;34m\u001b[0m\u001b[0m\n\u001b[1;32m   1708\u001b[0m     \"\"\"\n\u001b[0;32m-> 1709\u001b[0;31m     \u001b[0;32mfrom\u001b[0m \u001b[0mpandas\u001b[0m\u001b[0;34m.\u001b[0m\u001b[0mcore\u001b[0m\u001b[0;34m.\u001b[0m\u001b[0marrays\u001b[0m \u001b[0;32mimport\u001b[0m \u001b[0mExtensionArray\u001b[0m\u001b[0;34m\u001b[0m\u001b[0m\n\u001b[0m\u001b[1;32m   1710\u001b[0m \u001b[0;34m\u001b[0m\u001b[0m\n\u001b[1;32m   1711\u001b[0m     \u001b[0;32mif\u001b[0m \u001b[0misinstance\u001b[0m\u001b[0;34m(\u001b[0m\u001b[0marr_or_dtype\u001b[0m\u001b[0;34m,\u001b[0m \u001b[0;34m(\u001b[0m\u001b[0mABCIndexClass\u001b[0m\u001b[0;34m,\u001b[0m \u001b[0mABCSeries\u001b[0m\u001b[0;34m)\u001b[0m\u001b[0;34m)\u001b[0m\u001b[0;34m:\u001b[0m\u001b[0;34m\u001b[0m\u001b[0m\n",
      "\u001b[0;32m~/.local/share/virtualenvs/new-kernel-4-4k1TRchP/lib/python3.7/importlib/_bootstrap.py\u001b[0m in \u001b[0;36m_handle_fromlist\u001b[0;34m(module, fromlist, import_, recursive)\u001b[0m\n",
      "\u001b[0;31mKeyboardInterrupt\u001b[0m: "
     ]
    }
   ],
   "source": [
    "authors_pairs = authors_pairs.loc[:, ['count', 'id1', 'id2']]\n",
    "\n",
    "print(authors.head())\n",
    "print(authors_pairs.head())"
   ]
  },
  {
   "cell_type": "markdown",
   "metadata": {},
   "source": [
    "author_count = core_df.loc[:, ['AuthorID', 'Название публикации']]. \\\n",
    "groupby(by=['AuthorID']).count(). \\\n",
    "rename(columns={'Название публикации':'Публикаций'})\n",
    "print(len(author_count))\n",
    "author_count.head()"
   ]
  },
  {
   "cell_type": "markdown",
   "metadata": {},
   "source": [
    "author_count = author_count.merge(core_df.loc[:, ['Авторы', 'AuthorID']].drop_duplicates('AuthorID'),\n",
    "                   left_index=True, right_on='AuthorID',\n",
    "                   validate='one_to_one')\n",
    "print(len(author_count))\n",
    "author_count.head()"
   ]
  },
  {
   "cell_type": "markdown",
   "metadata": {},
   "source": [
    "group_pubs = core_df.loc[:, ['AuthorID', 'Авторы', 'Название публикации']]. \\\n",
    "groupby(by=['Название публикации'])\n",
    "\n",
    "pairs_pub = {}\n",
    "def process_group_of_authors(df):\n",
    "    ids = df.loc[:, 'AuthorID']\n",
    "    ids_pairs = combinations(ids, 2)\n",
    "    for pair in ids_pairs:\n",
    "        pair = tuple(sorted(pair))\n",
    "        if pair[0] == pair[1]:\n",
    "            continue\n",
    "        pairs_pub.setdefault(pair, 0)\n",
    "        pairs_pub[pair] += 1\n",
    "        \n",
    "group_pubs.apply(process_group_of_authors)"
   ]
  },
  {
   "cell_type": "markdown",
   "metadata": {},
   "source": [
    "pairs_count = pd.DataFrame.from_dict(pairs_pub, orient='index', columns=['count'])\n",
    "pairs_count = pairs_count.reset_index()\n",
    "pairs_count[['id1', 'id2']] = pairs_count.loc[:, 'index'].apply(pd.Series)\n",
    "pairs_count.drop(columns=['index'], inplace=True)\n",
    "pairs_count.head()"
   ]
  },
  {
   "cell_type": "code",
   "execution_count": null,
   "metadata": {},
   "outputs": [],
   "source": [
    "authors.head()"
   ]
  },
  {
   "cell_type": "code",
   "execution_count": 24,
   "metadata": {},
   "outputs": [],
   "source": [
    "authors = authors.reset_index()"
   ]
  },
  {
   "cell_type": "code",
   "execution_count": 25,
   "metadata": {
    "scrolled": true
   },
   "outputs": [
    {
     "name": "stdout",
     "output_type": "stream",
     "text": [
      "            id          label  mass     value          title  group\n",
      "0  10038963900   Merks R.M.H.     1  0.564190  Публикаций: 1      2\n",
      "1  10039857500      Clarke E.     4  1.128379  Публикаций: 4      8\n",
      "2  10042201400  Alyapyshev M.     7  1.492705  Публикаций: 7      2\n",
      "3  10042634700    Kantsler V.     1  0.564190  Публикаций: 1      1\n",
      "4  10044307900        Vega A.     1  0.564190  Публикаций: 1      1\n",
      "   value         from           to                title\n",
      "0      1  56610399200  56635198100  Совместных работ: 1\n",
      "1      1  16744711000  56610399200  Совместных работ: 1\n",
      "2      1  22334329100  56610399200  Совместных работ: 1\n",
      "3      2  23049787700  56610399200  Совместных работ: 2\n",
      "4      1  56610399200  57203961704  Совместных работ: 1\n"
     ]
    }
   ],
   "source": [
    "#convert dataset to vis.js format\n",
    "edges = authors_pairs.rename(columns={'count':'value', 'id1':'from', 'id2':'to'})\n",
    "edges.loc[:, 'title'] = 'Совместных работ: ' + edges.loc[:, 'value'].astype(str)\n",
    "\n",
    "nodes = authors.rename(columns={'name':'label', 'count':'mass'}) #title\n",
    "nodes.loc[:, 'value'] = np.sqrt(nodes.loc[:, 'mass'] / np.pi)\n",
    "nodes.loc[:, 'title'] = 'Публикаций: ' + nodes.loc[:, 'mass'].astype(str)\n",
    "nodes.loc[:, 'group'] = np.random.randint(1, 9, nodes.shape[0])\n",
    "print(nodes.head())\n",
    "print(edges.head())"
   ]
  },
  {
   "cell_type": "code",
   "execution_count": 26,
   "metadata": {},
   "outputs": [
    {
     "name": "stdout",
     "output_type": "stream",
     "text": [
      "   value         from           to                title  hidden\n",
      "0      1  56610399200  56635198100  Совместных работ: 1    True\n",
      "1      1  16744711000  56610399200  Совместных работ: 1    True\n",
      "2      1  22334329100  56610399200  Совместных работ: 1    True\n",
      "3      2  23049787700  56610399200  Совместных работ: 2    True\n",
      "4      1  56610399200  57203961704  Совместных работ: 1    True\n"
     ]
    }
   ],
   "source": [
    "# required for faster physics calculation\n",
    "edges.loc[:, 'hidden'] = True\n",
    "print(edges.head())"
   ]
  },
  {
   "cell_type": "code",
   "execution_count": 27,
   "metadata": {},
   "outputs": [],
   "source": [
    "def replace_str(filename, text_to_search, replacement_text):\n",
    "    with fileinput.FileInput(filename, inplace=True) as file:\n",
    "        for line in file:\n",
    "            print(line.replace(text_to_search, replacement_text), end='')"
   ]
  },
  {
   "cell_type": "code",
   "execution_count": 28,
   "metadata": {},
   "outputs": [],
   "source": [
    "edges_filename = 'edges_ITMO ' + quartiles + '.json'\n",
    "nodes_filename = 'nodes_ITMO ' + quartiles + '.json'"
   ]
  },
  {
   "cell_type": "code",
   "execution_count": 29,
   "metadata": {},
   "outputs": [],
   "source": [
    "# Вывод в файл\n",
    "\n",
    "edges.to_json(edges_filename, orient='records', force_ascii=True)\n",
    "nodes.to_json(nodes_filename, orient='records', force_ascii=True)\n",
    "\n",
    "replace_str(nodes_filename, '\"title\"', ' title ')\n",
    "replace_str(nodes_filename, '\"value\"', ' value ')\n",
    "replace_str(nodes_filename, '\"group\"', ' group ')\n",
    "replace_str(nodes_filename, '\"id\"', ' id ')\n",
    "replace_str(nodes_filename, '\"label\"', ' label ')\n",
    "replace_str(nodes_filename, '\"mass\"', ' mass ')\n",
    "replace_str(nodes_filename, '\"x\"', ' x ')\n",
    "replace_str(nodes_filename, '\"y\"', ' y ')\n",
    "# replace_str('pers_pub_net.json', '\"physics\"', ' physics ')\n",
    "# replace_str('pers_pub_net.json', '\"false\"', ' false ')\n",
    "\n",
    "replace_str(edges_filename, '\"value\"', ' value ')\n",
    "replace_str(edges_filename, '\"from\"', ' from ')\n",
    "replace_str(edges_filename, '\"title\"', ' title ')\n",
    "replace_str(edges_filename, '\"to\"', ' to ')\n",
    "replace_str(edges_filename, '\"hidden\"', ' hidden ')"
   ]
  },
  {
   "cell_type": "markdown",
   "metadata": {},
   "source": [
    "## setting up positions of nodes"
   ]
  },
  {
   "cell_type": "code",
   "execution_count": 12,
   "metadata": {},
   "outputs": [
    {
     "name": "stdout",
     "output_type": "stream",
     "text": [
      "12910\n"
     ]
    },
    {
     "data": {
      "text/html": [
       "<div>\n",
       "<style scoped>\n",
       "    .dataframe tbody tr th:only-of-type {\n",
       "        vertical-align: middle;\n",
       "    }\n",
       "\n",
       "    .dataframe tbody tr th {\n",
       "        vertical-align: top;\n",
       "    }\n",
       "\n",
       "    .dataframe thead th {\n",
       "        text-align: right;\n",
       "    }\n",
       "</style>\n",
       "<table border=\"1\" class=\"dataframe\">\n",
       "  <thead>\n",
       "    <tr style=\"text-align: right;\">\n",
       "      <th></th>\n",
       "      <th>id</th>\n",
       "      <th>x</th>\n",
       "      <th>y</th>\n",
       "    </tr>\n",
       "  </thead>\n",
       "  <tbody>\n",
       "    <tr>\n",
       "      <th>0</th>\n",
       "      <td>10038963900</td>\n",
       "      <td>-12903</td>\n",
       "      <td>48074</td>\n",
       "    </tr>\n",
       "    <tr>\n",
       "      <th>1</th>\n",
       "      <td>10039857500</td>\n",
       "      <td>-40847</td>\n",
       "      <td>4179</td>\n",
       "    </tr>\n",
       "    <tr>\n",
       "      <th>2</th>\n",
       "      <td>10039922200</td>\n",
       "      <td>-81541</td>\n",
       "      <td>51285</td>\n",
       "    </tr>\n",
       "    <tr>\n",
       "      <th>3</th>\n",
       "      <td>10040023500</td>\n",
       "      <td>13656</td>\n",
       "      <td>1896</td>\n",
       "    </tr>\n",
       "    <tr>\n",
       "      <th>4</th>\n",
       "      <td>10041592700</td>\n",
       "      <td>-16401</td>\n",
       "      <td>-17036</td>\n",
       "    </tr>\n",
       "  </tbody>\n",
       "</table>\n",
       "</div>"
      ],
      "text/plain": [
       "            id      x      y\n",
       "0  10038963900 -12903  48074\n",
       "1  10039857500 -40847   4179\n",
       "2  10039922200 -81541  51285\n",
       "3  10040023500  13656   1896\n",
       "4  10041592700 -16401 -17036"
      ]
     },
     "execution_count": 12,
     "metadata": {},
     "output_type": "execute_result"
    }
   ],
   "source": [
    "positions = pd.read_json('ITMO_positions_' + quartiles + '.json', orient='records')\n",
    "print(len(positions))\n",
    "positions.head()"
   ]
  },
  {
   "cell_type": "code",
   "execution_count": 13,
   "metadata": {},
   "outputs": [],
   "source": [
    "positions.loc[:, 'id'] = positions.loc[:, 'id'].astype(int)\n",
    "nodes.loc[:, 'id'] = nodes.loc[:, 'id'].astype(int)"
   ]
  },
  {
   "cell_type": "code",
   "execution_count": 14,
   "metadata": {},
   "outputs": [],
   "source": [
    "nodes_with_coord = nodes.merge(right=positions, left_on='id', right_on='id', validate='one_to_one')\n",
    "nodes_with_coord = nodes_with_coord.sort_values('mass', ascending=False)"
   ]
  },
  {
   "cell_type": "code",
   "execution_count": 15,
   "metadata": {},
   "outputs": [
    {
     "data": {
      "text/html": [
       "<div>\n",
       "<style scoped>\n",
       "    .dataframe tbody tr th:only-of-type {\n",
       "        vertical-align: middle;\n",
       "    }\n",
       "\n",
       "    .dataframe tbody tr th {\n",
       "        vertical-align: top;\n",
       "    }\n",
       "\n",
       "    .dataframe thead th {\n",
       "        text-align: right;\n",
       "    }\n",
       "</style>\n",
       "<table border=\"1\" class=\"dataframe\">\n",
       "  <thead>\n",
       "    <tr style=\"text-align: right;\">\n",
       "      <th></th>\n",
       "      <th>id</th>\n",
       "      <th>label</th>\n",
       "      <th>mass</th>\n",
       "      <th>value</th>\n",
       "      <th>title</th>\n",
       "      <th>group</th>\n",
       "      <th>x</th>\n",
       "      <th>y</th>\n",
       "    </tr>\n",
       "  </thead>\n",
       "  <tbody>\n",
       "    <tr>\n",
       "      <th>11764</th>\n",
       "      <td>7006167582</td>\n",
       "      <td>Belov P.</td>\n",
       "      <td>290</td>\n",
       "      <td>9.607802</td>\n",
       "      <td>Публикаций: 290</td>\n",
       "      <td>3</td>\n",
       "      <td>-45449</td>\n",
       "      <td>-4642</td>\n",
       "    </tr>\n",
       "    <tr>\n",
       "      <th>1633</th>\n",
       "      <td>36038963000</td>\n",
       "      <td>Kivshar Y.</td>\n",
       "      <td>217</td>\n",
       "      <td>8.311032</td>\n",
       "      <td>Публикаций: 217</td>\n",
       "      <td>3</td>\n",
       "      <td>-40985</td>\n",
       "      <td>-4213</td>\n",
       "    </tr>\n",
       "    <tr>\n",
       "      <th>12254</th>\n",
       "      <td>7201565128</td>\n",
       "      <td>Baranov A.</td>\n",
       "      <td>171</td>\n",
       "      <td>7.377736</td>\n",
       "      <td>Публикаций: 171</td>\n",
       "      <td>2</td>\n",
       "      <td>-8059</td>\n",
       "      <td>-12026</td>\n",
       "    </tr>\n",
       "    <tr>\n",
       "      <th>175</th>\n",
       "      <td>14008386700</td>\n",
       "      <td>Fedorov A.V.</td>\n",
       "      <td>158</td>\n",
       "      <td>7.091753</td>\n",
       "      <td>Публикаций: 158</td>\n",
       "      <td>2</td>\n",
       "      <td>-15401</td>\n",
       "      <td>-14672</td>\n",
       "    </tr>\n",
       "    <tr>\n",
       "      <th>11045</th>\n",
       "      <td>7003772604</td>\n",
       "      <td>Nikonorov N.V.</td>\n",
       "      <td>127</td>\n",
       "      <td>6.358094</td>\n",
       "      <td>Публикаций: 127</td>\n",
       "      <td>2</td>\n",
       "      <td>-13587</td>\n",
       "      <td>-29215</td>\n",
       "    </tr>\n",
       "  </tbody>\n",
       "</table>\n",
       "</div>"
      ],
      "text/plain": [
       "                id           label  mass     value            title  group  \\\n",
       "11764   7006167582        Belov P.   290  9.607802  Публикаций: 290      3   \n",
       "1633   36038963000      Kivshar Y.   217  8.311032  Публикаций: 217      3   \n",
       "12254   7201565128      Baranov A.   171  7.377736  Публикаций: 171      2   \n",
       "175    14008386700    Fedorov A.V.   158  7.091753  Публикаций: 158      2   \n",
       "11045   7003772604  Nikonorov N.V.   127  6.358094  Публикаций: 127      2   \n",
       "\n",
       "           x      y  \n",
       "11764 -45449  -4642  \n",
       "1633  -40985  -4213  \n",
       "12254  -8059 -12026  \n",
       "175   -15401 -14672  \n",
       "11045 -13587 -29215  "
      ]
     },
     "execution_count": 15,
     "metadata": {},
     "output_type": "execute_result"
    }
   ],
   "source": [
    "nodes_with_coord.head()"
   ]
  },
  {
   "cell_type": "code",
   "execution_count": 16,
   "metadata": {},
   "outputs": [],
   "source": [
    "edges.to_json(edges_filename, orient='records', force_ascii=True)\n",
    "nodes_with_coord.to_json(nodes_filename, orient='records', force_ascii=True)\n",
    "\n",
    "replace_str(nodes_filename, '\"title\"', ' title ')\n",
    "replace_str(nodes_filename, '\"value\"', ' value ')\n",
    "replace_str(nodes_filename, '\"group\"', ' group ')\n",
    "replace_str(nodes_filename, '\"id\"', ' id ')\n",
    "replace_str(nodes_filename, '\"label\"', ' label ')\n",
    "replace_str(nodes_filename, '\"mass\"', ' mass ')\n",
    "replace_str(nodes_filename, '\"x\"', ' x ')\n",
    "replace_str(nodes_filename, '\"y\"', ' y ')\n",
    "# replace_str('pers_pub_net.json', '\"physics\"', ' physics ')\n",
    "# replace_str('pers_pub_net.json', '\"false\"', ' false ')\n",
    "\n",
    "replace_str(edges_filename, '\"value\"', ' value ')\n",
    "replace_str(edges_filename, '\"from\"', ' from ')\n",
    "replace_str(edges_filename, '\"title\"', ' title ')\n",
    "replace_str(edges_filename, '\"to\"', ' to ')\n",
    "replace_str(edges_filename, '\"hidden\"', ' hidden ')"
   ]
  },
  {
   "cell_type": "code",
   "execution_count": null,
   "metadata": {},
   "outputs": [],
   "source": []
  },
  {
   "cell_type": "code",
   "execution_count": null,
   "metadata": {},
   "outputs": [],
   "source": []
  },
  {
   "cell_type": "markdown",
   "metadata": {
    "collapsed": true
   },
   "source": [
    "stucked_names = core_df.loc[:, 'Авторы']\n",
    "stucked_names.head()"
   ]
  },
  {
   "cell_type": "markdown",
   "metadata": {},
   "source": [
    "def split_names(stucked_names_entry):\n",
    "    splitted = stucked_names_entry.split('\\n')\n",
    "    str_list = []\n",
    "    for substr in splitted:\n",
    "        temp = ' '.join(substr.split())\n",
    "        str_list.append(temp)\n",
    "    str_list = list(filter(None, str_list))\n",
    "    return str_list"
   ]
  },
  {
   "cell_type": "markdown",
   "metadata": {},
   "source": [
    "def pairwise(t):\n",
    "    it = iter(t)\n",
    "    return zip(it,it)"
   ]
  },
  {
   "cell_type": "markdown",
   "metadata": {},
   "source": [
    "def detect_faculty(str_with_faculty):\n",
    "    selector = {\n",
    "        str_with_faculty.find('МТ'): 'МТ',\n",
    "        str_with_faculty.find('ИУ'): 'ИУ',\n",
    "        str_with_faculty.find('РЛ'): 'РЛ',\n",
    "        str_with_faculty.find('ФН'): 'ФН',\n",
    "        str_with_faculty.find('СМ'): 'СМ',\n",
    "        str_with_faculty.find('Э'): 'Э',\n",
    "        str_with_faculty.find('РК'): 'РК',\n",
    "        str_with_faculty.find('БМТ'): 'БМТ',\n",
    "        str_with_faculty.find('Л'): 'Л',\n",
    "        str_with_faculty.find('ИБМ'): 'ИБМ',\n",
    "        str_with_faculty.find('СГН'): 'СГН',\n",
    "        str_with_faculty.find('РКТ'): 'РКТ',\n",
    "        str_with_faculty.find('АК'): 'АК',\n",
    "        str_with_faculty.find('ПС'): 'ПС',\n",
    "        str_with_faculty.find('РТ'): 'РТ',\n",
    "        str_with_faculty.find('ОЭП'): 'ОЭП',\n",
    "        str_with_faculty.find('ЮР'): 'ЮР',\n",
    "        str_with_faculty.find('ГУИМЦ'): 'ГУИМЦ',\n",
    "        str_with_faculty.find('ФМОП'): 'ФМОП',\n",
    "        str_with_faculty.find('ФВО'): 'ФВО',\n",
    "    }\n",
    "    try:\n",
    "        sel = selector[True]\n",
    "        assert(type(sel) == str), 'Multiple faculties detected: {}'.format(type(sel))\n",
    "        return sel\n",
    "    except KeyError as e:\n",
    "        return 'Other'"
   ]
  },
  {
   "cell_type": "markdown",
   "metadata": {},
   "source": [
    "def process_group_of_names_df(group_of_names, personal_publications_df, pair_publications_df):\n",
    "    splitted = split_names(group_of_names)\n",
    "    name_position_pairs = pairwise(splitted)\n",
    "    bmstu_members = [entry for entry in name_position_pairs if (entry[1].find('Не МГТУ') == -1)]\n",
    "    \n",
    "    \n",
    "    \n",
    "def process_group_of_names(group_of_names):\n",
    "    splitted = split_names(group_of_names)\n",
    "    name_position_pairs = pairwise(splitted)\n",
    "    bmstu_members = [entry for entry in name_position_pairs if (entry[1].find('Не МГТУ') == -1)]\n",
    "    \n",
    "    for entry in bmstu_members:\n",
    "        faculty = detect_faculty(entry[1])\n",
    "        personal_publications_num.setdefault(entry[0], [0, faculty])\n",
    "        personal_publications_num[entry[0]][0] += 1\n",
    "    for single_comb in combinations(bmstu_members, 2):\n",
    "        sorted_comb = sorted(single_comb, key=lambda tup: tup[0])\n",
    "        names_comb = (sorted_comb[0][0], sorted_comb[1][0])\n",
    "        pair_publications_num.setdefault(names_comb, 0)\n",
    "        pair_publications_num[names_comb] += 1"
   ]
  },
  {
   "cell_type": "markdown",
   "metadata": {},
   "source": [
    "personal_publications_num = {}\n",
    "pair_publications_num = {}\n",
    "stucked_names = core_df['Авторы']\n",
    "stucked_names.apply(process_group_of_names);"
   ]
  },
  {
   "cell_type": "code",
   "execution_count": null,
   "metadata": {},
   "outputs": [],
   "source": [
    "personal_publications_num_df = pd.DataFrame.from_dict(personal_publications_num, orient='index',\n",
    "                                                      columns=['pub_num', 'faculty'])\n",
    "personal_publications_num_df.index.names = ['full_name']\n",
    "personal_publications_num_df.reset_index(inplace=True)\n",
    "personal_publications_num_df.loc[:, 'id'] = personal_publications_num_df.apply(lambda row: id(row['full_name']),\n",
    "                                                                               axis=1)\n",
    "\n",
    "\n",
    "pair_publications_num_df = pd.DataFrame.from_dict(pair_publications_num, orient='index', columns=['pair_pub_num'])\n",
    "pair_publications_num_df.index.names = ['names_pair']\n",
    "pair_publications_num_df.reset_index(inplace=True)\n",
    "get_ids = lambda row: pd.Series([id(row['names_pair'][0]),\n",
    "                                 id(row['names_pair'][1])])\n",
    "pair_publications_num_df[['name1_id', 'name2_id']] = pair_publications_num_df.apply(get_ids, axis=1)"
   ]
  },
  {
   "cell_type": "markdown",
   "metadata": {},
   "source": [
    "def append_key_data(row):\n",
    "     return row.loc['full_name'] + ' (' + str(row.loc['pub_num']) + ', ' + row.loc['faculty'] + ')'"
   ]
  },
  {
   "cell_type": "markdown",
   "metadata": {},
   "source": [
    "personal_publications_num_df['key_data'] = personal_publications_num_df.apply(\n",
    "    append_key_data, axis=1)"
   ]
  },
  {
   "cell_type": "markdown",
   "metadata": {},
   "source": [
    "personal_publications_num_network_format_df = personal_publications_num_df.rename(\n",
    "    columns={'key_data':'title', 'pub_num':'value', 'faculty':'group'})[['title', 'value', 'group', 'id']]\n",
    "pair_publications_num_network_format_df = pair_publications_num_df.rename(\n",
    "    columns={'pair_pub_num':'value', 'name1_id':'from', 'name2_id':'to'})[['value', 'from', 'to']]"
   ]
  },
  {
   "cell_type": "markdown",
   "metadata": {},
   "source": [
    "personal_publications_num_network_format_df.to_json('pers_pub_net.json', orient='records')\n",
    "pair_publications_num_network_format_df.to_json('pair_pub_net.json', orient='records')"
   ]
  },
  {
   "cell_type": "code",
   "execution_count": null,
   "metadata": {},
   "outputs": [],
   "source": []
  }
 ],
 "metadata": {
  "kernelspec": {
   "display_name": "new-kernel-4",
   "language": "python",
   "name": "new-kernel-4"
  },
  "language_info": {
   "codemirror_mode": {
    "name": "ipython",
    "version": 3
   },
   "file_extension": ".py",
   "mimetype": "text/x-python",
   "name": "python",
   "nbconvert_exporter": "python",
   "pygments_lexer": "ipython3",
   "version": "3.7.0"
  }
 },
 "nbformat": 4,
 "nbformat_minor": 2
}

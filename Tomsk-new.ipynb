{
 "cells": [
  {
   "cell_type": "code",
   "execution_count": 1,
   "metadata": {},
   "outputs": [],
   "source": [
    "import pandas as pd\n",
    "import numpy as np\n",
    "from itertools import combinations\n",
    "import fileinput"
   ]
  },
  {
   "cell_type": "code",
   "execution_count": 41,
   "metadata": {},
   "outputs": [],
   "source": [
    "quartiles = 'q1' #arg\n",
    "quartiles = quartiles.lower()\n",
    "drop_without_quartile = False if 'q4' in quartiles else True"
   ]
  },
  {
   "cell_type": "code",
   "execution_count": 42,
   "metadata": {},
   "outputs": [
    {
     "name": "stdout",
     "output_type": "stream",
     "text": [
      "26140\n",
      "26134\n",
      "3290\n"
     ]
    },
    {
     "data": {
      "text/html": [
       "<div>\n",
       "<style scoped>\n",
       "    .dataframe tbody tr th:only-of-type {\n",
       "        vertical-align: middle;\n",
       "    }\n",
       "\n",
       "    .dataframe tbody tr th {\n",
       "        vertical-align: top;\n",
       "    }\n",
       "\n",
       "    .dataframe thead th {\n",
       "        text-align: right;\n",
       "    }\n",
       "</style>\n",
       "<table border=\"1\" class=\"dataframe\">\n",
       "  <thead>\n",
       "    <tr style=\"text-align: right;\">\n",
       "      <th></th>\n",
       "      <th>Авторы</th>\n",
       "      <th>Название публикации</th>\n",
       "    </tr>\n",
       "  </thead>\n",
       "  <tbody>\n",
       "    <tr>\n",
       "      <th>0</th>\n",
       "      <td>Saltykova, O.A.</td>\n",
       "      <td>On the contact interaction of a two-layer beam...</td>\n",
       "    </tr>\n",
       "    <tr>\n",
       "      <th>1</th>\n",
       "      <td>Krysko, A.V.</td>\n",
       "      <td>On the contact interaction of a two-layer beam...</td>\n",
       "    </tr>\n",
       "    <tr>\n",
       "      <th>2</th>\n",
       "      <td>Pestryakov, A.</td>\n",
       "      <td>Novel route of synthesis of ultra-small Au nan...</td>\n",
       "    </tr>\n",
       "    <tr>\n",
       "      <th>3</th>\n",
       "      <td>Sivkov, A.</td>\n",
       "      <td>Boron carbide B4C ceramics with enhanced physi...</td>\n",
       "    </tr>\n",
       "    <tr>\n",
       "      <th>4</th>\n",
       "      <td>Rakhmatullin, I.</td>\n",
       "      <td>Boron carbide B4C ceramics with enhanced physi...</td>\n",
       "    </tr>\n",
       "  </tbody>\n",
       "</table>\n",
       "</div>"
      ],
      "text/plain": [
       "             Авторы                                Название публикации\n",
       "0   Saltykova, O.A.  On the contact interaction of a two-layer beam...\n",
       "1      Krysko, A.V.  On the contact interaction of a two-layer beam...\n",
       "2    Pestryakov, A.  Novel route of synthesis of ultra-small Au nan...\n",
       "3        Sivkov, A.  Boron carbide B4C ceramics with enhanced physi...\n",
       "4  Rakhmatullin, I.  Boron carbide B4C ceramics with enhanced physi..."
      ]
     },
     "execution_count": 42,
     "metadata": {},
     "output_type": "execute_result"
    }
   ],
   "source": [
    "core_df = pd.read_excel('./Data/Source Datasets/Томск.xlsx', na_values=['Q-нет', ' ']). \\\n",
    "loc[:, ['Авторы', 'Квартиль', 'Название публикации']]\n",
    "print(len(core_df))\n",
    "core_df = core_df.loc[core_df.loc[:, 'Авторы'].notnull(), :]\n",
    "print(len(core_df))\n",
    "core_df = core_df.loc[core_df.loc[:, 'Квартиль'].str. \\\n",
    "                      lower().str. \\\n",
    "                      contains(quartiles, na=(not drop_without_quartile)) , :]\n",
    "core_df = core_df.loc[:, ['Авторы', 'Название публикации']]\n",
    "print(len(core_df))\n",
    "core_df.head()"
   ]
  },
  {
   "cell_type": "markdown",
   "metadata": {},
   "source": [
    "has_scopus_name = lambda row: False if row['Издание'].find('Scopus') == -1 else True\n",
    "core_df['Scopus'] = core_df.apply(has_scopus_name, axis=1)\n",
    "core_df = core_df[core_df['Scopus']]"
   ]
  },
  {
   "cell_type": "markdown",
   "metadata": {
    "scrolled": true
   },
   "source": [
    "row = core_df.loc[a, :].iloc[0]\n",
    "row"
   ]
  },
  {
   "cell_type": "markdown",
   "metadata": {},
   "source": [
    "def split(stucked_str, delimiter):\n",
    "    srs = pd.Series(stucked_str.split(delimiter))\n",
    "    srs = srs.str.strip()\n",
    "    return srs"
   ]
  },
  {
   "cell_type": "markdown",
   "metadata": {},
   "source": [
    "names = split((row['Авторы'] + ', JR., kjjk.f'), ',')\n",
    "names[~names.str.contains('JR.')]"
   ]
  },
  {
   "cell_type": "markdown",
   "metadata": {},
   "source": [
    "authors = {}\n",
    "authors_pairs = {}"
   ]
  },
  {
   "cell_type": "markdown",
   "metadata": {},
   "source": [
    "names = split(row['Авторы'], ',')\n",
    "if (any(names.str.contains('JR', case=False) == True)): #what does 'JR.' after name means? skip those\n",
    "    print(\"FUUUUuuUUUUUUUUU\")\n",
    "ids = split(row['ids'], ';')\n",
    "ids = ids[ids.str.isnumeric()] # filter empty strings"
   ]
  },
  {
   "cell_type": "markdown",
   "metadata": {},
   "source": [
    "names = split(row['Авторы'], ',')\n",
    "if (any(names.str.contains('JR', case=False) == True)): #what does 'JR.' after name means? skip those\n",
    "    print(\"FUUUUuuUUUUUUUUU\")\n",
    "ids = split(row['ids'], ';')\n",
    "ids = ids[ids.str.isnumeric()] # filter empty strings\n",
    "\n",
    "for i in range(len(names)):\n",
    "    authors.setdefault(ids[i], {'name':names[i], 'pub':0}) # add to dict 'authors' [id] -> (name, 0 {pulications})\n",
    "    authors[ids[i]]['pub'] += 1\n",
    "\n",
    "ids_pairs = combinations(ids, 2)\n",
    "for pair in ids_pairs:\n",
    "    pair = tuple(sorted(pair))\n",
    "    if pair[0] == pair[1]:\n",
    "        continue\n",
    "    authors_pairs.setdefault(pair, 0)\n",
    "    authors_pairs[pair] += 1"
   ]
  },
  {
   "cell_type": "markdown",
   "metadata": {},
   "source": [
    "def process_row(row):\n",
    "    names = split(row['Авторы'], ',')\n",
    "    if (any((names.str.len() <= 3) == True)):   #what does names with less than 3 characters\n",
    "                                                #mean? skip those\n",
    "        return\n",
    "    ids = split(row['ids'], ';')\n",
    "    ids = ids[ids.str.isnumeric()] # filter empty strings\n",
    "    if len(names) > len(ids):\n",
    "        return True\n",
    "        names = names[:len(ids)]\n",
    "    if len(names) < len(ids):\n",
    "        return True\n",
    "        ids = ids[:len(names)]\n",
    "    \n",
    "    for i in range(len(names)):\n",
    "        authors.setdefault(ids[i], {'name':names[i], 'count':0}) # add to dict 'authors' [id] -> (name, 0 {pulications})\n",
    "        authors[ids[i]]['count'] += 1\n",
    "\n",
    "    ids_pairs = combinations(ids, 2)\n",
    "    for pair in ids_pairs:\n",
    "        pair = tuple(sorted(pair))\n",
    "        if pair[0] == pair[1]:\n",
    "            continue\n",
    "        authors_pairs.setdefault(pair, 0)\n",
    "        authors_pairs[pair] += 1\n",
    "    return"
   ]
  },
  {
   "cell_type": "markdown",
   "metadata": {},
   "source": [
    "authors = {}\n",
    "authors_pairs = {}\n",
    "\n",
    "_ = core_df.apply(func=process_row, axis=1)\n",
    "\n",
    "authors = pd.DataFrame.from_dict(authors, orient='index')\n",
    "authors = authors.reset_index().rename(columns={'index':'id'}).set_index('id')\n",
    "authors_pairs = pd.DataFrame.from_dict(authors_pairs, orient='index')\n",
    "\n",
    "authors_pairs = authors_pairs.reset_index().rename(columns={0:'count'})\n",
    "\n",
    "authors_pairs[['id1', 'id2']] = authors_pairs.loc[:, 'index'].apply(lambda pair: pd.Series([pair[0], pair[1]]))\n",
    "\n",
    "authors_pairs = authors_pairs.loc[:, ['count', 'id1', 'id2']]\n",
    "\n",
    "print(authors.head())\n",
    "print(authors_pairs.head())"
   ]
  },
  {
   "cell_type": "code",
   "execution_count": 43,
   "metadata": {},
   "outputs": [
    {
     "name": "stdout",
     "output_type": "stream",
     "text": [
      "1161\n"
     ]
    },
    {
     "data": {
      "text/html": [
       "<div>\n",
       "<style scoped>\n",
       "    .dataframe tbody tr th:only-of-type {\n",
       "        vertical-align: middle;\n",
       "    }\n",
       "\n",
       "    .dataframe tbody tr th {\n",
       "        vertical-align: top;\n",
       "    }\n",
       "\n",
       "    .dataframe thead th {\n",
       "        text-align: right;\n",
       "    }\n",
       "</style>\n",
       "<table border=\"1\" class=\"dataframe\">\n",
       "  <thead>\n",
       "    <tr style=\"text-align: right;\">\n",
       "      <th></th>\n",
       "      <th>Публикаций</th>\n",
       "    </tr>\n",
       "    <tr>\n",
       "      <th>Авторы</th>\n",
       "      <th></th>\n",
       "    </tr>\n",
       "  </thead>\n",
       "  <tbody>\n",
       "    <tr>\n",
       "      <th>Abramova, A.V.</th>\n",
       "      <td>1</td>\n",
       "    </tr>\n",
       "    <tr>\n",
       "      <th>Ahmad, N.</th>\n",
       "      <td>1</td>\n",
       "    </tr>\n",
       "    <tr>\n",
       "      <th>Aikina, T.Yu.</th>\n",
       "      <td>1</td>\n",
       "    </tr>\n",
       "    <tr>\n",
       "      <th>Ajaev, V.S.</th>\n",
       "      <td>1</td>\n",
       "    </tr>\n",
       "    <tr>\n",
       "      <th>Aksenova, N.</th>\n",
       "      <td>1</td>\n",
       "    </tr>\n",
       "  </tbody>\n",
       "</table>\n",
       "</div>"
      ],
      "text/plain": [
       "                Публикаций\n",
       "Авторы                    \n",
       "Abramova, A.V.           1\n",
       "Ahmad, N.                1\n",
       "Aikina, T.Yu.            1\n",
       "Ajaev, V.S.              1\n",
       "Aksenova, N.             1"
      ]
     },
     "execution_count": 43,
     "metadata": {},
     "output_type": "execute_result"
    }
   ],
   "source": [
    "author_count = core_df.loc[:, ['Авторы', 'Название публикации']]. \\\n",
    "groupby(by=['Авторы']).count(). \\\n",
    "rename(columns={'Название публикации':'Публикаций'})\n",
    "print(len(author_count))\n",
    "author_count.head()"
   ]
  },
  {
   "cell_type": "markdown",
   "metadata": {},
   "source": [
    "author_count = author_count.merge(core_df.loc[:, ['Авторы', 'AuthorID']].drop_duplicates('AuthorID'),\n",
    "                   left_index=True, right_on='AuthorID',\n",
    "                   validate='one_to_one')\n",
    "print(len(author_count))\n",
    "author_count.head()"
   ]
  },
  {
   "cell_type": "code",
   "execution_count": 44,
   "metadata": {},
   "outputs": [
    {
     "data": {
      "text/html": [
       "<div>\n",
       "<style scoped>\n",
       "    .dataframe tbody tr th:only-of-type {\n",
       "        vertical-align: middle;\n",
       "    }\n",
       "\n",
       "    .dataframe tbody tr th {\n",
       "        vertical-align: top;\n",
       "    }\n",
       "\n",
       "    .dataframe thead th {\n",
       "        text-align: right;\n",
       "    }\n",
       "</style>\n",
       "<table border=\"1\" class=\"dataframe\">\n",
       "  <thead>\n",
       "    <tr style=\"text-align: right;\">\n",
       "      <th></th>\n",
       "    </tr>\n",
       "  </thead>\n",
       "  <tbody>\n",
       "  </tbody>\n",
       "</table>\n",
       "</div>"
      ],
      "text/plain": [
       "Empty DataFrame\n",
       "Columns: []\n",
       "Index: []"
      ]
     },
     "execution_count": 44,
     "metadata": {},
     "output_type": "execute_result"
    }
   ],
   "source": [
    "group_pubs = core_df.loc[:, ['Авторы', 'Название публикации']]. \\\n",
    "groupby(by=['Название публикации'])\n",
    "\n",
    "pairs_pub = {}\n",
    "def process_group_of_authors(df):\n",
    "    ids = df.loc[:, 'Авторы']\n",
    "    ids_pairs = combinations(ids, 2)\n",
    "    for pair in ids_pairs:\n",
    "        pair = tuple(sorted(pair))\n",
    "        if pair[0] == pair[1]:\n",
    "            continue\n",
    "        pairs_pub.setdefault(pair, 0)\n",
    "        pairs_pub[pair] += 1\n",
    "        \n",
    "group_pubs.apply(process_group_of_authors)"
   ]
  },
  {
   "cell_type": "code",
   "execution_count": 45,
   "metadata": {},
   "outputs": [
    {
     "data": {
      "text/html": [
       "<div>\n",
       "<style scoped>\n",
       "    .dataframe tbody tr th:only-of-type {\n",
       "        vertical-align: middle;\n",
       "    }\n",
       "\n",
       "    .dataframe tbody tr th {\n",
       "        vertical-align: top;\n",
       "    }\n",
       "\n",
       "    .dataframe thead th {\n",
       "        text-align: right;\n",
       "    }\n",
       "</style>\n",
       "<table border=\"1\" class=\"dataframe\">\n",
       "  <thead>\n",
       "    <tr style=\"text-align: right;\">\n",
       "      <th></th>\n",
       "      <th>count</th>\n",
       "      <th>id1</th>\n",
       "      <th>id2</th>\n",
       "    </tr>\n",
       "  </thead>\n",
       "  <tbody>\n",
       "    <tr>\n",
       "      <th>0</th>\n",
       "      <td>9</td>\n",
       "      <td>Postnikov, P.S.</td>\n",
       "      <td>Yusubov, M.S.</td>\n",
       "    </tr>\n",
       "    <tr>\n",
       "      <th>1</th>\n",
       "      <td>4</td>\n",
       "      <td>Yusubov, M.S.</td>\n",
       "      <td>Yusubova, R.Y.</td>\n",
       "    </tr>\n",
       "    <tr>\n",
       "      <th>2</th>\n",
       "      <td>7</td>\n",
       "      <td>Yoshimura, A.</td>\n",
       "      <td>Yusubov, M.S.</td>\n",
       "    </tr>\n",
       "    <tr>\n",
       "      <th>3</th>\n",
       "      <td>2</td>\n",
       "      <td>Postnikov, P.S.</td>\n",
       "      <td>Yusubova, R.Y.</td>\n",
       "    </tr>\n",
       "    <tr>\n",
       "      <th>4</th>\n",
       "      <td>6</td>\n",
       "      <td>Postnikov, P.S.</td>\n",
       "      <td>Yoshimura, A.</td>\n",
       "    </tr>\n",
       "  </tbody>\n",
       "</table>\n",
       "</div>"
      ],
      "text/plain": [
       "   count              id1             id2\n",
       "0      9  Postnikov, P.S.   Yusubov, M.S.\n",
       "1      4    Yusubov, M.S.  Yusubova, R.Y.\n",
       "2      7    Yoshimura, A.   Yusubov, M.S.\n",
       "3      2  Postnikov, P.S.  Yusubova, R.Y.\n",
       "4      6  Postnikov, P.S.   Yoshimura, A."
      ]
     },
     "execution_count": 45,
     "metadata": {},
     "output_type": "execute_result"
    }
   ],
   "source": [
    "pairs_count = pd.DataFrame.from_dict(pairs_pub, orient='index', columns=['count'])\n",
    "pairs_count = pairs_count.reset_index()\n",
    "pairs_count[['id1', 'id2']] = pairs_count.loc[:, 'index'].apply(pd.Series)\n",
    "pairs_count.drop(columns=['index'], inplace=True)\n",
    "pairs_count.head()"
   ]
  },
  {
   "cell_type": "markdown",
   "metadata": {},
   "source": [
    "authors.head()"
   ]
  },
  {
   "cell_type": "markdown",
   "metadata": {},
   "source": [
    "authors = authors.reset_index()"
   ]
  },
  {
   "cell_type": "code",
   "execution_count": 46,
   "metadata": {},
   "outputs": [],
   "source": [
    "author_count = author_count.reset_index()"
   ]
  },
  {
   "cell_type": "code",
   "execution_count": 47,
   "metadata": {},
   "outputs": [
    {
     "data": {
      "text/html": [
       "<div>\n",
       "<style scoped>\n",
       "    .dataframe tbody tr th:only-of-type {\n",
       "        vertical-align: middle;\n",
       "    }\n",
       "\n",
       "    .dataframe tbody tr th {\n",
       "        vertical-align: top;\n",
       "    }\n",
       "\n",
       "    .dataframe thead th {\n",
       "        text-align: right;\n",
       "    }\n",
       "</style>\n",
       "<table border=\"1\" class=\"dataframe\">\n",
       "  <thead>\n",
       "    <tr style=\"text-align: right;\">\n",
       "      <th></th>\n",
       "      <th>Авторы</th>\n",
       "      <th>Публикаций</th>\n",
       "    </tr>\n",
       "  </thead>\n",
       "  <tbody>\n",
       "    <tr>\n",
       "      <th>0</th>\n",
       "      <td>Abramova, A.V.</td>\n",
       "      <td>1</td>\n",
       "    </tr>\n",
       "    <tr>\n",
       "      <th>1</th>\n",
       "      <td>Ahmad, N.</td>\n",
       "      <td>1</td>\n",
       "    </tr>\n",
       "    <tr>\n",
       "      <th>2</th>\n",
       "      <td>Aikina, T.Yu.</td>\n",
       "      <td>1</td>\n",
       "    </tr>\n",
       "    <tr>\n",
       "      <th>3</th>\n",
       "      <td>Ajaev, V.S.</td>\n",
       "      <td>1</td>\n",
       "    </tr>\n",
       "    <tr>\n",
       "      <th>4</th>\n",
       "      <td>Aksenova, N.</td>\n",
       "      <td>1</td>\n",
       "    </tr>\n",
       "  </tbody>\n",
       "</table>\n",
       "</div>"
      ],
      "text/plain": [
       "           Авторы  Публикаций\n",
       "0  Abramova, A.V.           1\n",
       "1       Ahmad, N.           1\n",
       "2   Aikina, T.Yu.           1\n",
       "3     Ajaev, V.S.           1\n",
       "4    Aksenova, N.           1"
      ]
     },
     "execution_count": 47,
     "metadata": {},
     "output_type": "execute_result"
    }
   ],
   "source": [
    "author_count.head()"
   ]
  },
  {
   "cell_type": "code",
   "execution_count": 48,
   "metadata": {},
   "outputs": [
    {
     "data": {
      "text/html": [
       "<div>\n",
       "<style scoped>\n",
       "    .dataframe tbody tr th:only-of-type {\n",
       "        vertical-align: middle;\n",
       "    }\n",
       "\n",
       "    .dataframe tbody tr th {\n",
       "        vertical-align: top;\n",
       "    }\n",
       "\n",
       "    .dataframe thead th {\n",
       "        text-align: right;\n",
       "    }\n",
       "</style>\n",
       "<table border=\"1\" class=\"dataframe\">\n",
       "  <thead>\n",
       "    <tr style=\"text-align: right;\">\n",
       "      <th></th>\n",
       "      <th>count</th>\n",
       "      <th>id1</th>\n",
       "      <th>id2</th>\n",
       "    </tr>\n",
       "  </thead>\n",
       "  <tbody>\n",
       "    <tr>\n",
       "      <th>0</th>\n",
       "      <td>9</td>\n",
       "      <td>Postnikov, P.S.</td>\n",
       "      <td>Yusubov, M.S.</td>\n",
       "    </tr>\n",
       "    <tr>\n",
       "      <th>1</th>\n",
       "      <td>4</td>\n",
       "      <td>Yusubov, M.S.</td>\n",
       "      <td>Yusubova, R.Y.</td>\n",
       "    </tr>\n",
       "    <tr>\n",
       "      <th>2</th>\n",
       "      <td>7</td>\n",
       "      <td>Yoshimura, A.</td>\n",
       "      <td>Yusubov, M.S.</td>\n",
       "    </tr>\n",
       "    <tr>\n",
       "      <th>3</th>\n",
       "      <td>2</td>\n",
       "      <td>Postnikov, P.S.</td>\n",
       "      <td>Yusubova, R.Y.</td>\n",
       "    </tr>\n",
       "    <tr>\n",
       "      <th>4</th>\n",
       "      <td>6</td>\n",
       "      <td>Postnikov, P.S.</td>\n",
       "      <td>Yoshimura, A.</td>\n",
       "    </tr>\n",
       "  </tbody>\n",
       "</table>\n",
       "</div>"
      ],
      "text/plain": [
       "   count              id1             id2\n",
       "0      9  Postnikov, P.S.   Yusubov, M.S.\n",
       "1      4    Yusubov, M.S.  Yusubova, R.Y.\n",
       "2      7    Yoshimura, A.   Yusubov, M.S.\n",
       "3      2  Postnikov, P.S.  Yusubova, R.Y.\n",
       "4      6  Postnikov, P.S.   Yoshimura, A."
      ]
     },
     "execution_count": 48,
     "metadata": {},
     "output_type": "execute_result"
    }
   ],
   "source": [
    "pairs_count.head()"
   ]
  },
  {
   "cell_type": "code",
   "execution_count": 49,
   "metadata": {
    "scrolled": true
   },
   "outputs": [
    {
     "name": "stdout",
     "output_type": "stream",
     "text": [
      "            label  mass    value          title  group\n",
      "0  Abramova, A.V.     1  0.56419  Публикаций: 1      1\n",
      "1       Ahmad, N.     1  0.56419  Публикаций: 1      1\n",
      "2   Aikina, T.Yu.     1  0.56419  Публикаций: 1      2\n",
      "3     Ajaev, V.S.     1  0.56419  Публикаций: 1      7\n",
      "4    Aksenova, N.     1  0.56419  Публикаций: 1      8\n",
      "1161\n",
      "   value             from              to                title\n",
      "0      9  Postnikov, P.S.   Yusubov, M.S.  Совместных работ: 9\n",
      "1      4    Yusubov, M.S.  Yusubova, R.Y.  Совместных работ: 4\n",
      "2      7    Yoshimura, A.   Yusubov, M.S.  Совместных работ: 7\n",
      "3      2  Postnikov, P.S.  Yusubova, R.Y.  Совместных работ: 2\n",
      "4      6  Postnikov, P.S.   Yoshimura, A.  Совместных работ: 6\n",
      "2317\n"
     ]
    }
   ],
   "source": [
    "#convert dataset to vis.js format\n",
    "edges = pairs_count.rename(columns={'count':'value', 'id1':'from', 'id2':'to'})\n",
    "edges.loc[:, 'title'] = 'Совместных работ: ' + edges.loc[:, 'value'].astype(str)\n",
    "\n",
    "nodes = author_count.rename(columns={'Авторы':'label', 'Публикаций':'mass'}) #title\n",
    "nodes.loc[:, 'value'] = np.sqrt(nodes.loc[:, 'mass'] / np.pi)\n",
    "nodes.loc[:, 'title'] = 'Публикаций: ' + nodes.loc[:, 'mass'].astype(str)\n",
    "nodes.loc[:, 'group'] = np.random.randint(1, 9, nodes.shape[0])\n",
    "print(nodes.head())\n",
    "print(len(nodes))\n",
    "print(edges.head())\n",
    "print(len(edges))"
   ]
  },
  {
   "cell_type": "code",
   "execution_count": 50,
   "metadata": {},
   "outputs": [
    {
     "name": "stdout",
     "output_type": "stream",
     "text": [
      "   value             from              to                title  hidden\n",
      "0      9  Postnikov, P.S.   Yusubov, M.S.  Совместных работ: 9    True\n",
      "1      4    Yusubov, M.S.  Yusubova, R.Y.  Совместных работ: 4    True\n",
      "2      7    Yoshimura, A.   Yusubov, M.S.  Совместных работ: 7    True\n",
      "3      2  Postnikov, P.S.  Yusubova, R.Y.  Совместных работ: 2    True\n",
      "4      6  Postnikov, P.S.   Yoshimura, A.  Совместных работ: 6    True\n"
     ]
    }
   ],
   "source": [
    "# required for faster physics calculation\n",
    "edges.loc[:, 'hidden'] = True\n",
    "print(edges.head())"
   ]
  },
  {
   "cell_type": "code",
   "execution_count": 51,
   "metadata": {},
   "outputs": [],
   "source": [
    "def replace_str(filename, text_to_search, replacement_text):\n",
    "    with fileinput.FileInput(filename, inplace=True) as file:\n",
    "        for line in file:\n",
    "            print(line.replace(text_to_search, replacement_text), end='')"
   ]
  },
  {
   "cell_type": "code",
   "execution_count": 52,
   "metadata": {},
   "outputs": [],
   "source": [
    "edges_filename = 'edges_Томск ' + quartiles + '.json'\n",
    "nodes_filename = 'nodes_Томск ' + quartiles + '.json'"
   ]
  },
  {
   "cell_type": "markdown",
   "metadata": {},
   "source": [
    "### Запись в файл (без координат)"
   ]
  },
  {
   "cell_type": "code",
   "execution_count": 53,
   "metadata": {},
   "outputs": [],
   "source": [
    "# Вывод в файл\n",
    "\n",
    "edges.to_json(edges_filename, orient='records', force_ascii=True)\n",
    "nodes.to_json(nodes_filename, orient='records', force_ascii=True)\n",
    "\n",
    "replace_str(nodes_filename, '\"title\"', ' title ')\n",
    "replace_str(nodes_filename, '\"value\"', ' value ')\n",
    "replace_str(nodes_filename, '\"group\"', ' group ')\n",
    "replace_str(nodes_filename, '\"id\"', ' id ')\n",
    "replace_str(nodes_filename, '\"label\"', ' label ')\n",
    "replace_str(nodes_filename, '\"mass\"', ' mass ')\n",
    "replace_str(nodes_filename, '\"x\"', ' x ')\n",
    "replace_str(nodes_filename, '\"y\"', ' y ')\n",
    "# replace_str('pers_pub_net.json', '\"physics\"', ' physics ')\n",
    "# replace_str('pers_pub_net.json', '\"false\"', ' false ')\n",
    "\n",
    "replace_str(edges_filename, '\"value\"', ' value ')\n",
    "replace_str(edges_filename, '\"from\"', ' from ')\n",
    "replace_str(edges_filename, '\"title\"', ' title ')\n",
    "replace_str(edges_filename, '\"to\"', ' to ')\n",
    "replace_str(edges_filename, '\"hidden\"', ' hidden ')"
   ]
  },
  {
   "cell_type": "markdown",
   "metadata": {},
   "source": [
    "## setting up positions of nodes"
   ]
  },
  {
   "cell_type": "code",
   "execution_count": 54,
   "metadata": {},
   "outputs": [
    {
     "ename": "ValueError",
     "evalue": "Expected object or value",
     "output_type": "error",
     "traceback": [
      "\u001b[0;31m---------------------------------------------------------------------------\u001b[0m",
      "\u001b[0;31mValueError\u001b[0m                                Traceback (most recent call last)",
      "\u001b[0;32m<ipython-input-54-c193b99e5a06>\u001b[0m in \u001b[0;36m<module>\u001b[0;34m\u001b[0m\n\u001b[0;32m----> 1\u001b[0;31m \u001b[0mpositions\u001b[0m \u001b[0;34m=\u001b[0m \u001b[0mpd\u001b[0m\u001b[0;34m.\u001b[0m\u001b[0mread_json\u001b[0m\u001b[0;34m(\u001b[0m\u001b[0;34m'Томск_positions_'\u001b[0m \u001b[0;34m+\u001b[0m \u001b[0mquartiles\u001b[0m \u001b[0;34m+\u001b[0m \u001b[0;34m'.json'\u001b[0m\u001b[0;34m,\u001b[0m \u001b[0morient\u001b[0m\u001b[0;34m=\u001b[0m\u001b[0;34m'records'\u001b[0m\u001b[0;34m)\u001b[0m\u001b[0;34m\u001b[0m\u001b[0m\n\u001b[0m\u001b[1;32m      2\u001b[0m \u001b[0mprint\u001b[0m\u001b[0;34m(\u001b[0m\u001b[0mlen\u001b[0m\u001b[0;34m(\u001b[0m\u001b[0mpositions\u001b[0m\u001b[0;34m)\u001b[0m\u001b[0;34m)\u001b[0m\u001b[0;34m\u001b[0m\u001b[0m\n\u001b[1;32m      3\u001b[0m \u001b[0mpositions\u001b[0m\u001b[0;34m.\u001b[0m\u001b[0mhead\u001b[0m\u001b[0;34m(\u001b[0m\u001b[0;34m)\u001b[0m\u001b[0;34m\u001b[0m\u001b[0m\n",
      "\u001b[0;32m~/.local/share/virtualenvs/new-kernel-4-4k1TRchP/lib/python3.7/site-packages/pandas/io/json/json.py\u001b[0m in \u001b[0;36mread_json\u001b[0;34m(path_or_buf, orient, typ, dtype, convert_axes, convert_dates, keep_default_dates, numpy, precise_float, date_unit, encoding, lines, chunksize, compression)\u001b[0m\n\u001b[1;32m    420\u001b[0m         \u001b[0;32mreturn\u001b[0m \u001b[0mjson_reader\u001b[0m\u001b[0;34m\u001b[0m\u001b[0m\n\u001b[1;32m    421\u001b[0m \u001b[0;34m\u001b[0m\u001b[0m\n\u001b[0;32m--> 422\u001b[0;31m     \u001b[0mresult\u001b[0m \u001b[0;34m=\u001b[0m \u001b[0mjson_reader\u001b[0m\u001b[0;34m.\u001b[0m\u001b[0mread\u001b[0m\u001b[0;34m(\u001b[0m\u001b[0;34m)\u001b[0m\u001b[0;34m\u001b[0m\u001b[0m\n\u001b[0m\u001b[1;32m    423\u001b[0m     \u001b[0;32mif\u001b[0m \u001b[0mshould_close\u001b[0m\u001b[0;34m:\u001b[0m\u001b[0;34m\u001b[0m\u001b[0m\n\u001b[1;32m    424\u001b[0m         \u001b[0;32mtry\u001b[0m\u001b[0;34m:\u001b[0m\u001b[0;34m\u001b[0m\u001b[0m\n",
      "\u001b[0;32m~/.local/share/virtualenvs/new-kernel-4-4k1TRchP/lib/python3.7/site-packages/pandas/io/json/json.py\u001b[0m in \u001b[0;36mread\u001b[0;34m(self)\u001b[0m\n\u001b[1;32m    527\u001b[0m             )\n\u001b[1;32m    528\u001b[0m         \u001b[0;32melse\u001b[0m\u001b[0;34m:\u001b[0m\u001b[0;34m\u001b[0m\u001b[0m\n\u001b[0;32m--> 529\u001b[0;31m             \u001b[0mobj\u001b[0m \u001b[0;34m=\u001b[0m \u001b[0mself\u001b[0m\u001b[0;34m.\u001b[0m\u001b[0m_get_object_parser\u001b[0m\u001b[0;34m(\u001b[0m\u001b[0mself\u001b[0m\u001b[0;34m.\u001b[0m\u001b[0mdata\u001b[0m\u001b[0;34m)\u001b[0m\u001b[0;34m\u001b[0m\u001b[0m\n\u001b[0m\u001b[1;32m    530\u001b[0m         \u001b[0mself\u001b[0m\u001b[0;34m.\u001b[0m\u001b[0mclose\u001b[0m\u001b[0;34m(\u001b[0m\u001b[0;34m)\u001b[0m\u001b[0;34m\u001b[0m\u001b[0m\n\u001b[1;32m    531\u001b[0m         \u001b[0;32mreturn\u001b[0m \u001b[0mobj\u001b[0m\u001b[0;34m\u001b[0m\u001b[0m\n",
      "\u001b[0;32m~/.local/share/virtualenvs/new-kernel-4-4k1TRchP/lib/python3.7/site-packages/pandas/io/json/json.py\u001b[0m in \u001b[0;36m_get_object_parser\u001b[0;34m(self, json)\u001b[0m\n\u001b[1;32m    544\u001b[0m         \u001b[0mobj\u001b[0m \u001b[0;34m=\u001b[0m \u001b[0;32mNone\u001b[0m\u001b[0;34m\u001b[0m\u001b[0m\n\u001b[1;32m    545\u001b[0m         \u001b[0;32mif\u001b[0m \u001b[0mtyp\u001b[0m \u001b[0;34m==\u001b[0m \u001b[0;34m'frame'\u001b[0m\u001b[0;34m:\u001b[0m\u001b[0;34m\u001b[0m\u001b[0m\n\u001b[0;32m--> 546\u001b[0;31m             \u001b[0mobj\u001b[0m \u001b[0;34m=\u001b[0m \u001b[0mFrameParser\u001b[0m\u001b[0;34m(\u001b[0m\u001b[0mjson\u001b[0m\u001b[0;34m,\u001b[0m \u001b[0;34m**\u001b[0m\u001b[0mkwargs\u001b[0m\u001b[0;34m)\u001b[0m\u001b[0;34m.\u001b[0m\u001b[0mparse\u001b[0m\u001b[0;34m(\u001b[0m\u001b[0;34m)\u001b[0m\u001b[0;34m\u001b[0m\u001b[0m\n\u001b[0m\u001b[1;32m    547\u001b[0m \u001b[0;34m\u001b[0m\u001b[0m\n\u001b[1;32m    548\u001b[0m         \u001b[0;32mif\u001b[0m \u001b[0mtyp\u001b[0m \u001b[0;34m==\u001b[0m \u001b[0;34m'series'\u001b[0m \u001b[0;32mor\u001b[0m \u001b[0mobj\u001b[0m \u001b[0;32mis\u001b[0m \u001b[0;32mNone\u001b[0m\u001b[0;34m:\u001b[0m\u001b[0;34m\u001b[0m\u001b[0m\n",
      "\u001b[0;32m~/.local/share/virtualenvs/new-kernel-4-4k1TRchP/lib/python3.7/site-packages/pandas/io/json/json.py\u001b[0m in \u001b[0;36mparse\u001b[0;34m(self)\u001b[0m\n\u001b[1;32m    636\u001b[0m \u001b[0;34m\u001b[0m\u001b[0m\n\u001b[1;32m    637\u001b[0m         \u001b[0;32melse\u001b[0m\u001b[0;34m:\u001b[0m\u001b[0;34m\u001b[0m\u001b[0m\n\u001b[0;32m--> 638\u001b[0;31m             \u001b[0mself\u001b[0m\u001b[0;34m.\u001b[0m\u001b[0m_parse_no_numpy\u001b[0m\u001b[0;34m(\u001b[0m\u001b[0;34m)\u001b[0m\u001b[0;34m\u001b[0m\u001b[0m\n\u001b[0m\u001b[1;32m    639\u001b[0m \u001b[0;34m\u001b[0m\u001b[0m\n\u001b[1;32m    640\u001b[0m         \u001b[0;32mif\u001b[0m \u001b[0mself\u001b[0m\u001b[0;34m.\u001b[0m\u001b[0mobj\u001b[0m \u001b[0;32mis\u001b[0m \u001b[0;32mNone\u001b[0m\u001b[0;34m:\u001b[0m\u001b[0;34m\u001b[0m\u001b[0m\n",
      "\u001b[0;32m~/.local/share/virtualenvs/new-kernel-4-4k1TRchP/lib/python3.7/site-packages/pandas/io/json/json.py\u001b[0m in \u001b[0;36m_parse_no_numpy\u001b[0;34m(self)\u001b[0m\n\u001b[1;32m    865\u001b[0m         \u001b[0;32melse\u001b[0m\u001b[0;34m:\u001b[0m\u001b[0;34m\u001b[0m\u001b[0m\n\u001b[1;32m    866\u001b[0m             self.obj = DataFrame(\n\u001b[0;32m--> 867\u001b[0;31m                 loads(json, precise_float=self.precise_float), dtype=None)\n\u001b[0m\u001b[1;32m    868\u001b[0m \u001b[0;34m\u001b[0m\u001b[0m\n\u001b[1;32m    869\u001b[0m     \u001b[0;32mdef\u001b[0m \u001b[0m_process_converter\u001b[0m\u001b[0;34m(\u001b[0m\u001b[0mself\u001b[0m\u001b[0;34m,\u001b[0m \u001b[0mf\u001b[0m\u001b[0;34m,\u001b[0m \u001b[0mfilt\u001b[0m\u001b[0;34m=\u001b[0m\u001b[0;32mNone\u001b[0m\u001b[0;34m)\u001b[0m\u001b[0;34m:\u001b[0m\u001b[0;34m\u001b[0m\u001b[0m\n",
      "\u001b[0;31mValueError\u001b[0m: Expected object or value"
     ]
    }
   ],
   "source": [
    "positions = pd.read_json('Томск_positions_' + quartiles + '.json', orient='records')\n",
    "print(len(positions))\n",
    "positions.head()"
   ]
  },
  {
   "cell_type": "code",
   "execution_count": null,
   "metadata": {},
   "outputs": [],
   "source": [
    "positions.loc[:, 'id'] = positions.loc[:, 'id'].astype(int)\n",
    "nodes.loc[:, 'id'] = nodes.loc[:, 'id'].astype(int)"
   ]
  },
  {
   "cell_type": "code",
   "execution_count": null,
   "metadata": {},
   "outputs": [],
   "source": [
    "nodes_with_coord = nodes.merge(right=positions, left_on='id', right_on='id', validate='one_to_one')\n",
    "nodes_with_coord = nodes_with_coord.sort_values('mass', ascending=False)"
   ]
  },
  {
   "cell_type": "code",
   "execution_count": null,
   "metadata": {},
   "outputs": [],
   "source": [
    "nodes_with_coord.head()"
   ]
  },
  {
   "cell_type": "code",
   "execution_count": null,
   "metadata": {},
   "outputs": [],
   "source": [
    "edges.to_json(edges_filename, orient='records', force_ascii=True)\n",
    "nodes_with_coord.to_json(nodes_filename, orient='records', force_ascii=True)\n",
    "\n",
    "replace_str(nodes_filename, '\"title\"', ' title ')\n",
    "replace_str(nodes_filename, '\"value\"', ' value ')\n",
    "replace_str(nodes_filename, '\"group\"', ' group ')\n",
    "replace_str(nodes_filename, '\"id\"', ' id ')\n",
    "replace_str(nodes_filename, '\"label\"', ' label ')\n",
    "replace_str(nodes_filename, '\"mass\"', ' mass ')\n",
    "replace_str(nodes_filename, '\"x\"', ' x ')\n",
    "replace_str(nodes_filename, '\"y\"', ' y ')\n",
    "# replace_str('pers_pub_net.json', '\"physics\"', ' physics ')\n",
    "# replace_str('pers_pub_net.json', '\"false\"', ' false ')\n",
    "\n",
    "replace_str(edges_filename, '\"value\"', ' value ')\n",
    "replace_str(edges_filename, '\"from\"', ' from ')\n",
    "replace_str(edges_filename, '\"title\"', ' title ')\n",
    "replace_str(edges_filename, '\"to\"', ' to ')\n",
    "replace_str(edges_filename, '\"hidden\"', ' hidden ')"
   ]
  },
  {
   "cell_type": "code",
   "execution_count": null,
   "metadata": {},
   "outputs": [],
   "source": []
  },
  {
   "cell_type": "code",
   "execution_count": null,
   "metadata": {},
   "outputs": [],
   "source": []
  },
  {
   "cell_type": "markdown",
   "metadata": {
    "collapsed": true
   },
   "source": [
    "stucked_names = core_df.loc[:, 'Авторы']\n",
    "stucked_names.head()"
   ]
  },
  {
   "cell_type": "markdown",
   "metadata": {},
   "source": [
    "def split_names(stucked_names_entry):\n",
    "    splitted = stucked_names_entry.split('\\n')\n",
    "    str_list = []\n",
    "    for substr in splitted:\n",
    "        temp = ' '.join(substr.split())\n",
    "        str_list.append(temp)\n",
    "    str_list = list(filter(None, str_list))\n",
    "    return str_list"
   ]
  },
  {
   "cell_type": "markdown",
   "metadata": {},
   "source": [
    "def pairwise(t):\n",
    "    it = iter(t)\n",
    "    return zip(it,it)"
   ]
  },
  {
   "cell_type": "markdown",
   "metadata": {},
   "source": [
    "def detect_faculty(str_with_faculty):\n",
    "    selector = {\n",
    "        str_with_faculty.find('МТ'): 'МТ',\n",
    "        str_with_faculty.find('ИУ'): 'ИУ',\n",
    "        str_with_faculty.find('РЛ'): 'РЛ',\n",
    "        str_with_faculty.find('ФН'): 'ФН',\n",
    "        str_with_faculty.find('СМ'): 'СМ',\n",
    "        str_with_faculty.find('Э'): 'Э',\n",
    "        str_with_faculty.find('РК'): 'РК',\n",
    "        str_with_faculty.find('БМТ'): 'БМТ',\n",
    "        str_with_faculty.find('Л'): 'Л',\n",
    "        str_with_faculty.find('ИБМ'): 'ИБМ',\n",
    "        str_with_faculty.find('СГН'): 'СГН',\n",
    "        str_with_faculty.find('РКТ'): 'РКТ',\n",
    "        str_with_faculty.find('АК'): 'АК',\n",
    "        str_with_faculty.find('ПС'): 'ПС',\n",
    "        str_with_faculty.find('РТ'): 'РТ',\n",
    "        str_with_faculty.find('ОЭП'): 'ОЭП',\n",
    "        str_with_faculty.find('ЮР'): 'ЮР',\n",
    "        str_with_faculty.find('ГУИМЦ'): 'ГУИМЦ',\n",
    "        str_with_faculty.find('ФМОП'): 'ФМОП',\n",
    "        str_with_faculty.find('ФВО'): 'ФВО',\n",
    "    }\n",
    "    try:\n",
    "        sel = selector[True]\n",
    "        assert(type(sel) == str), 'Multiple faculties detected: {}'.format(type(sel))\n",
    "        return sel\n",
    "    except KeyError as e:\n",
    "        return 'Other'"
   ]
  },
  {
   "cell_type": "markdown",
   "metadata": {},
   "source": [
    "def process_group_of_names_df(group_of_names, personal_publications_df, pair_publications_df):\n",
    "    splitted = split_names(group_of_names)\n",
    "    name_position_pairs = pairwise(splitted)\n",
    "    bmstu_members = [entry for entry in name_position_pairs if (entry[1].find('Не МГТУ') == -1)]\n",
    "    \n",
    "    \n",
    "    \n",
    "def process_group_of_names(group_of_names):\n",
    "    splitted = split_names(group_of_names)\n",
    "    name_position_pairs = pairwise(splitted)\n",
    "    bmstu_members = [entry for entry in name_position_pairs if (entry[1].find('Не МГТУ') == -1)]\n",
    "    \n",
    "    for entry in bmstu_members:\n",
    "        faculty = detect_faculty(entry[1])\n",
    "        personal_publications_num.setdefault(entry[0], [0, faculty])\n",
    "        personal_publications_num[entry[0]][0] += 1\n",
    "    for single_comb in combinations(bmstu_members, 2):\n",
    "        sorted_comb = sorted(single_comb, key=lambda tup: tup[0])\n",
    "        names_comb = (sorted_comb[0][0], sorted_comb[1][0])\n",
    "        pair_publications_num.setdefault(names_comb, 0)\n",
    "        pair_publications_num[names_comb] += 1"
   ]
  },
  {
   "cell_type": "markdown",
   "metadata": {},
   "source": [
    "personal_publications_num = {}\n",
    "pair_publications_num = {}\n",
    "stucked_names = core_df['Авторы']\n",
    "stucked_names.apply(process_group_of_names);"
   ]
  },
  {
   "cell_type": "code",
   "execution_count": null,
   "metadata": {},
   "outputs": [],
   "source": [
    "personal_publications_num_df = pd.DataFrame.from_dict(personal_publications_num, orient='index',\n",
    "                                                      columns=['pub_num', 'faculty'])\n",
    "personal_publications_num_df.index.names = ['full_name']\n",
    "personal_publications_num_df.reset_index(inplace=True)\n",
    "personal_publications_num_df.loc[:, 'id'] = personal_publications_num_df.apply(lambda row: id(row['full_name']),\n",
    "                                                                               axis=1)\n",
    "\n",
    "\n",
    "pair_publications_num_df = pd.DataFrame.from_dict(pair_publications_num, orient='index', columns=['pair_pub_num'])\n",
    "pair_publications_num_df.index.names = ['names_pair']\n",
    "pair_publications_num_df.reset_index(inplace=True)\n",
    "get_ids = lambda row: pd.Series([id(row['names_pair'][0]),\n",
    "                                 id(row['names_pair'][1])])\n",
    "pair_publications_num_df[['name1_id', 'name2_id']] = pair_publications_num_df.apply(get_ids, axis=1)"
   ]
  },
  {
   "cell_type": "markdown",
   "metadata": {},
   "source": [
    "def append_key_data(row):\n",
    "     return row.loc['full_name'] + ' (' + str(row.loc['pub_num']) + ', ' + row.loc['faculty'] + ')'"
   ]
  },
  {
   "cell_type": "markdown",
   "metadata": {},
   "source": [
    "personal_publications_num_df['key_data'] = personal_publications_num_df.apply(\n",
    "    append_key_data, axis=1)"
   ]
  },
  {
   "cell_type": "markdown",
   "metadata": {},
   "source": [
    "personal_publications_num_network_format_df = personal_publications_num_df.rename(\n",
    "    columns={'key_data':'title', 'pub_num':'value', 'faculty':'group'})[['title', 'value', 'group', 'id']]\n",
    "pair_publications_num_network_format_df = pair_publications_num_df.rename(\n",
    "    columns={'pair_pub_num':'value', 'name1_id':'from', 'name2_id':'to'})[['value', 'from', 'to']]"
   ]
  },
  {
   "cell_type": "markdown",
   "metadata": {},
   "source": [
    "personal_publications_num_network_format_df.to_json('pers_pub_net.json', orient='records')\n",
    "pair_publications_num_network_format_df.to_json('pair_pub_net.json', orient='records')"
   ]
  },
  {
   "cell_type": "code",
   "execution_count": null,
   "metadata": {},
   "outputs": [],
   "source": []
  }
 ],
 "metadata": {
  "kernelspec": {
   "display_name": "new-kernel-4",
   "language": "python",
   "name": "new-kernel-4"
  },
  "language_info": {
   "codemirror_mode": {
    "name": "ipython",
    "version": 3
   },
   "file_extension": ".py",
   "mimetype": "text/x-python",
   "name": "python",
   "nbconvert_exporter": "python",
   "pygments_lexer": "ipython3",
   "version": "3.7.0"
  }
 },
 "nbformat": 4,
 "nbformat_minor": 2
}

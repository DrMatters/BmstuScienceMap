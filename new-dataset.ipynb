{
 "cells": [
  {
   "cell_type": "code",
   "execution_count": 1,
   "metadata": {},
   "outputs": [],
   "source": [
    "import pandas as pd\n",
    "import numpy as np\n",
    "from itertools import combinations\n",
    "import fileinput"
   ]
  },
  {
   "cell_type": "code",
   "execution_count": 2,
   "metadata": {},
   "outputs": [],
   "source": [
    "quartiles = 'q1|q2|q3|q4' #arg\n",
    "quartiles = quartiles.lower()\n",
    "drop_without_quartile = False if 'q4' in quartiles else True"
   ]
  },
  {
   "cell_type": "code",
   "execution_count": 5,
   "metadata": {
    "collapsed": true
   },
   "outputs": [
    {
     "name": "stdout",
     "output_type": "stream",
     "text": [
      "7859\n",
      "7859\n"
     ]
    },
    {
     "data": {
      "text/html": [
       "<div>\n",
       "<style scoped>\n",
       "    .dataframe tbody tr th:only-of-type {\n",
       "        vertical-align: middle;\n",
       "    }\n",
       "\n",
       "    .dataframe tbody tr th {\n",
       "        vertical-align: top;\n",
       "    }\n",
       "\n",
       "    .dataframe thead th {\n",
       "        text-align: right;\n",
       "    }\n",
       "</style>\n",
       "<table border=\"1\" class=\"dataframe\">\n",
       "  <thead>\n",
       "    <tr style=\"text-align: right;\">\n",
       "      <th></th>\n",
       "      <th>Авторы</th>\n",
       "      <th>Название публикации</th>\n",
       "      <th>Квартиль</th>\n",
       "      <th>AuthorID</th>\n",
       "    </tr>\n",
       "  </thead>\n",
       "  <tbody>\n",
       "    <tr>\n",
       "      <th>0</th>\n",
       "      <td>Il'ichev, A.T.</td>\n",
       "      <td>Dynamics of front-like water evaporation phase...</td>\n",
       "      <td>Q1</td>\n",
       "      <td>7006402366</td>\n",
       "    </tr>\n",
       "    <tr>\n",
       "      <th>1</th>\n",
       "      <td>Karpov, A.O.</td>\n",
       "      <td>“Step into the future” program as a system of ...</td>\n",
       "      <td>NaN</td>\n",
       "      <td>16435004000</td>\n",
       "    </tr>\n",
       "    <tr>\n",
       "      <th>2</th>\n",
       "      <td>Guznenkov, V.</td>\n",
       "      <td>Electronic geometric modeling is the basis of ...</td>\n",
       "      <td>NaN</td>\n",
       "      <td>57203132065</td>\n",
       "    </tr>\n",
       "    <tr>\n",
       "      <th>3</th>\n",
       "      <td>Zhurbenko, P.</td>\n",
       "      <td>Electronic geometric modeling is the basis of ...</td>\n",
       "      <td>NaN</td>\n",
       "      <td>57203131501</td>\n",
       "    </tr>\n",
       "    <tr>\n",
       "      <th>4</th>\n",
       "      <td>Shamaev, D.M.</td>\n",
       "      <td>Mathematical modeling of ocular pulse blood fi...</td>\n",
       "      <td>NaN</td>\n",
       "      <td>56825997200</td>\n",
       "    </tr>\n",
       "  </tbody>\n",
       "</table>\n",
       "</div>"
      ],
      "text/plain": [
       "           Авторы                                Название публикации Квартиль  \\\n",
       "0  Il'ichev, A.T.  Dynamics of front-like water evaporation phase...       Q1   \n",
       "1    Karpov, A.O.  “Step into the future” program as a system of ...      NaN   \n",
       "2   Guznenkov, V.  Electronic geometric modeling is the basis of ...      NaN   \n",
       "3   Zhurbenko, P.  Electronic geometric modeling is the basis of ...      NaN   \n",
       "4   Shamaev, D.M.  Mathematical modeling of ocular pulse blood fi...      NaN   \n",
       "\n",
       "      AuthorID  \n",
       "0   7006402366  \n",
       "1  16435004000  \n",
       "2  57203132065  \n",
       "3  57203131501  \n",
       "4  56825997200  "
      ]
     },
     "execution_count": 5,
     "metadata": {},
     "output_type": "execute_result"
    }
   ],
   "source": [
    "core_df = pd.read_excel('Final.xlsx', na_values='Q-нет'). \\\n",
    "loc[:, ['Авторы', 'Название публикации', 'Квартиль', 'AuthorID']]\n",
    "core_df = core_df.loc[core_df.loc[:, 'Авторы'].notnull(), :]\n",
    "print(len(core_df))\n",
    "core_df = core_df.loc[core_df.loc[:, 'Квартиль'].str. \\\n",
    "                      lower().str. \\\n",
    "                      contains(quartiles,na=(not drop_without_quartile)) , :]\n",
    "print(len(core_df))\n",
    "core_df.head()"
   ]
  },
  {
   "cell_type": "markdown",
   "metadata": {},
   "source": [
    "has_scopus_name = lambda row: False if row['Издание'].find('Scopus') == -1 else True\n",
    "core_df['Scopus'] = core_df.apply(has_scopus_name, axis=1)\n",
    "core_df = core_df[core_df['Scopus']]"
   ]
  },
  {
   "cell_type": "code",
   "execution_count": 97,
   "metadata": {},
   "outputs": [
    {
     "name": "stdout",
     "output_type": "stream",
     "text": [
      "213\n"
     ]
    },
    {
     "data": {
      "text/html": [
       "<div>\n",
       "<style scoped>\n",
       "    .dataframe tbody tr th:only-of-type {\n",
       "        vertical-align: middle;\n",
       "    }\n",
       "\n",
       "    .dataframe tbody tr th {\n",
       "        vertical-align: top;\n",
       "    }\n",
       "\n",
       "    .dataframe thead th {\n",
       "        text-align: right;\n",
       "    }\n",
       "</style>\n",
       "<table border=\"1\" class=\"dataframe\">\n",
       "  <thead>\n",
       "    <tr style=\"text-align: right;\">\n",
       "      <th></th>\n",
       "      <th>Публикаций</th>\n",
       "    </tr>\n",
       "    <tr>\n",
       "      <th>AuthorID</th>\n",
       "      <th></th>\n",
       "    </tr>\n",
       "  </thead>\n",
       "  <tbody>\n",
       "    <tr>\n",
       "      <th>6504204735</th>\n",
       "      <td>1</td>\n",
       "    </tr>\n",
       "    <tr>\n",
       "      <th>6507019256</th>\n",
       "      <td>1</td>\n",
       "    </tr>\n",
       "    <tr>\n",
       "      <th>6507110909</th>\n",
       "      <td>1</td>\n",
       "    </tr>\n",
       "    <tr>\n",
       "      <th>6507129797</th>\n",
       "      <td>1</td>\n",
       "    </tr>\n",
       "    <tr>\n",
       "      <th>6507497064</th>\n",
       "      <td>1</td>\n",
       "    </tr>\n",
       "  </tbody>\n",
       "</table>\n",
       "</div>"
      ],
      "text/plain": [
       "            Публикаций\n",
       "AuthorID              \n",
       "6504204735           1\n",
       "6507019256           1\n",
       "6507110909           1\n",
       "6507129797           1\n",
       "6507497064           1"
      ]
     },
     "execution_count": 97,
     "metadata": {},
     "output_type": "execute_result"
    }
   ],
   "source": [
    "author_count = core_df.loc[:, ['AuthorID', 'Название публикации']]. \\\n",
    "groupby(by=['AuthorID']).count(). \\\n",
    "rename(columns={'Название публикации':'Публикаций'})\n",
    "print(len(author_count))\n",
    "author_count.head()"
   ]
  },
  {
   "cell_type": "code",
   "execution_count": 98,
   "metadata": {},
   "outputs": [
    {
     "name": "stdout",
     "output_type": "stream",
     "text": [
      "213\n"
     ]
    },
    {
     "data": {
      "text/html": [
       "<div>\n",
       "<style scoped>\n",
       "    .dataframe tbody tr th:only-of-type {\n",
       "        vertical-align: middle;\n",
       "    }\n",
       "\n",
       "    .dataframe tbody tr th {\n",
       "        vertical-align: top;\n",
       "    }\n",
       "\n",
       "    .dataframe thead th {\n",
       "        text-align: right;\n",
       "    }\n",
       "</style>\n",
       "<table border=\"1\" class=\"dataframe\">\n",
       "  <thead>\n",
       "    <tr style=\"text-align: right;\">\n",
       "      <th></th>\n",
       "      <th>Публикаций</th>\n",
       "      <th>Авторы</th>\n",
       "      <th>AuthorID</th>\n",
       "    </tr>\n",
       "  </thead>\n",
       "  <tbody>\n",
       "    <tr>\n",
       "      <th>3765</th>\n",
       "      <td>1</td>\n",
       "      <td>Khorokhorov, A.M.</td>\n",
       "      <td>6504204735</td>\n",
       "    </tr>\n",
       "    <tr>\n",
       "      <th>6007</th>\n",
       "      <td>1</td>\n",
       "      <td>Nosko, A.L.</td>\n",
       "      <td>6507019256</td>\n",
       "    </tr>\n",
       "    <tr>\n",
       "      <th>761</th>\n",
       "      <td>1</td>\n",
       "      <td>Nizametdinov, F.</td>\n",
       "      <td>6507110909</td>\n",
       "    </tr>\n",
       "    <tr>\n",
       "      <th>7696</th>\n",
       "      <td>1</td>\n",
       "      <td>Sarbaev, B.</td>\n",
       "      <td>6507129797</td>\n",
       "    </tr>\n",
       "    <tr>\n",
       "      <th>3767</th>\n",
       "      <td>1</td>\n",
       "      <td>Shirankov, A.F.</td>\n",
       "      <td>6507497064</td>\n",
       "    </tr>\n",
       "  </tbody>\n",
       "</table>\n",
       "</div>"
      ],
      "text/plain": [
       "      Публикаций             Авторы    AuthorID\n",
       "3765           1  Khorokhorov, A.M.  6504204735\n",
       "6007           1        Nosko, A.L.  6507019256\n",
       "761            1   Nizametdinov, F.  6507110909\n",
       "7696           1        Sarbaev, B.  6507129797\n",
       "3767           1    Shirankov, A.F.  6507497064"
      ]
     },
     "execution_count": 98,
     "metadata": {},
     "output_type": "execute_result"
    }
   ],
   "source": [
    "author_count = author_count.merge(core_df.loc[:, ['Авторы', 'AuthorID']].drop_duplicates('AuthorID'),\n",
    "                   left_index=True, right_on='AuthorID',\n",
    "                   validate='one_to_one')\n",
    "print(len(author_count))\n",
    "author_count.head()"
   ]
  },
  {
   "cell_type": "code",
   "execution_count": 99,
   "metadata": {},
   "outputs": [
    {
     "data": {
      "text/html": [
       "<div>\n",
       "<style scoped>\n",
       "    .dataframe tbody tr th:only-of-type {\n",
       "        vertical-align: middle;\n",
       "    }\n",
       "\n",
       "    .dataframe tbody tr th {\n",
       "        vertical-align: top;\n",
       "    }\n",
       "\n",
       "    .dataframe thead th {\n",
       "        text-align: right;\n",
       "    }\n",
       "</style>\n",
       "<table border=\"1\" class=\"dataframe\">\n",
       "  <thead>\n",
       "    <tr style=\"text-align: right;\">\n",
       "      <th></th>\n",
       "    </tr>\n",
       "  </thead>\n",
       "  <tbody>\n",
       "  </tbody>\n",
       "</table>\n",
       "</div>"
      ],
      "text/plain": [
       "Empty DataFrame\n",
       "Columns: []\n",
       "Index: []"
      ]
     },
     "execution_count": 99,
     "metadata": {},
     "output_type": "execute_result"
    }
   ],
   "source": [
    "group_pubs = core_df.loc[:, ['AuthorID', 'Авторы', 'Название публикации']]. \\\n",
    "groupby(by=['Название публикации'])\n",
    "\n",
    "pairs_pub = {}\n",
    "def process_group_of_authors(df):\n",
    "    ids = df.loc[:, 'AuthorID']\n",
    "    ids_pairs = combinations(ids, 2)\n",
    "    for pair in ids_pairs:\n",
    "        pair = tuple(sorted(pair))\n",
    "        if pair[0] == pair[1]:\n",
    "            continue\n",
    "        pairs_pub.setdefault(pair, 0)\n",
    "        pairs_pub[pair] += 1\n",
    "        \n",
    "group_pubs.apply(process_group_of_authors)"
   ]
  },
  {
   "cell_type": "code",
   "execution_count": 100,
   "metadata": {},
   "outputs": [
    {
     "data": {
      "text/html": [
       "<div>\n",
       "<style scoped>\n",
       "    .dataframe tbody tr th:only-of-type {\n",
       "        vertical-align: middle;\n",
       "    }\n",
       "\n",
       "    .dataframe tbody tr th {\n",
       "        vertical-align: top;\n",
       "    }\n",
       "\n",
       "    .dataframe thead th {\n",
       "        text-align: right;\n",
       "    }\n",
       "</style>\n",
       "<table border=\"1\" class=\"dataframe\">\n",
       "  <thead>\n",
       "    <tr style=\"text-align: right;\">\n",
       "      <th></th>\n",
       "      <th>count</th>\n",
       "      <th>id1</th>\n",
       "      <th>id2</th>\n",
       "    </tr>\n",
       "  </thead>\n",
       "  <tbody>\n",
       "    <tr>\n",
       "      <th>0</th>\n",
       "      <td>1</td>\n",
       "      <td>36979685600</td>\n",
       "      <td>37119843100</td>\n",
       "    </tr>\n",
       "    <tr>\n",
       "      <th>1</th>\n",
       "      <td>2</td>\n",
       "      <td>6603147714</td>\n",
       "      <td>26325278700</td>\n",
       "    </tr>\n",
       "    <tr>\n",
       "      <th>2</th>\n",
       "      <td>1</td>\n",
       "      <td>26325278700</td>\n",
       "      <td>57202592367</td>\n",
       "    </tr>\n",
       "    <tr>\n",
       "      <th>3</th>\n",
       "      <td>1</td>\n",
       "      <td>26325278700</td>\n",
       "      <td>56145117100</td>\n",
       "    </tr>\n",
       "    <tr>\n",
       "      <th>4</th>\n",
       "      <td>1</td>\n",
       "      <td>6603147714</td>\n",
       "      <td>57202592367</td>\n",
       "    </tr>\n",
       "  </tbody>\n",
       "</table>\n",
       "</div>"
      ],
      "text/plain": [
       "   count          id1          id2\n",
       "0      1  36979685600  37119843100\n",
       "1      2   6603147714  26325278700\n",
       "2      1  26325278700  57202592367\n",
       "3      1  26325278700  56145117100\n",
       "4      1   6603147714  57202592367"
      ]
     },
     "execution_count": 100,
     "metadata": {},
     "output_type": "execute_result"
    }
   ],
   "source": [
    "pairs_count = pd.DataFrame.from_dict(pairs_pub, orient='index', columns=['count'])\n",
    "pairs_count = pairs_count.reset_index()\n",
    "pairs_count[['id1', 'id2']] = pairs_count.loc[:, 'index'].apply(pd.Series)\n",
    "pairs_count.drop(columns=['index'], inplace=True)\n",
    "pairs_count.head()"
   ]
  },
  {
   "cell_type": "code",
   "execution_count": 101,
   "metadata": {},
   "outputs": [
    {
     "name": "stdout",
     "output_type": "stream",
     "text": [
      "      mass              label          id    value          title  group\n",
      "3765     1  Khorokhorov, A.M.  6504204735  0.56419  Публикаций: 1      4\n",
      "6007     1        Nosko, A.L.  6507019256  0.56419  Публикаций: 1      2\n",
      "761      1   Nizametdinov, F.  6507110909  0.56419  Публикаций: 1      8\n",
      "7696     1        Sarbaev, B.  6507129797  0.56419  Публикаций: 1      7\n",
      "3767     1    Shirankov, A.F.  6507497064  0.56419  Публикаций: 1      5\n",
      "   value         from           to                title\n",
      "0      1  36979685600  37119843100  Совместных работ: 1\n",
      "1      2   6603147714  26325278700  Совместных работ: 2\n",
      "2      1  26325278700  57202592367  Совместных работ: 1\n",
      "3      1  26325278700  56145117100  Совместных работ: 1\n",
      "4      1   6603147714  57202592367  Совместных работ: 1\n"
     ]
    }
   ],
   "source": [
    "#convert dataset to vis.js format\n",
    "edges = pairs_count.rename(columns={'count':'value', 'id1':'from', 'id2':'to'})\n",
    "edges.loc[:, 'title'] = 'Совместных работ: ' + edges.loc[:, 'value'].astype(str)\n",
    "\n",
    "nodes = author_count.rename(columns={'Авторы':'label', 'AuthorID':'id', 'Публикаций':'mass'}) #title\n",
    "nodes.loc[:, 'value'] = np.sqrt(nodes.loc[:, 'mass'] / np.pi)\n",
    "nodes.loc[:, 'title'] = 'Публикаций: ' + nodes.loc[:, 'mass'].astype(str)\n",
    "nodes.loc[:, 'group'] = np.random.randint(1, 9, nodes.shape[0])\n",
    "print(nodes.head())\n",
    "print(edges.head())"
   ]
  },
  {
   "cell_type": "code",
   "execution_count": 102,
   "metadata": {},
   "outputs": [],
   "source": [
    "def replace_str(filename, text_to_search, replacement_text):\n",
    "    with fileinput.FileInput(filename, inplace=True) as file:\n",
    "        for line in file:\n",
    "            print(line.replace(text_to_search, replacement_text), end='')"
   ]
  },
  {
   "cell_type": "code",
   "execution_count": 103,
   "metadata": {},
   "outputs": [],
   "source": [
    "edges_filename = 'edges ' + quartiles + '.json'\n",
    "nodes_filename = 'nodes ' + quartiles + '.json'\n",
    "\n",
    "edges.to_json(edges_filename, orient='records', force_ascii=True)\n",
    "nodes.to_json(nodes_filename, orient='records', force_ascii=True)\n",
    "\n",
    "replace_str(nodes_filename, '\"title\"', ' title ')\n",
    "replace_str(nodes_filename, '\"value\"', ' value ')\n",
    "replace_str(nodes_filename, '\"group\"', ' group ')\n",
    "replace_str(nodes_filename, '\"id\"', ' id ')\n",
    "replace_str(nodes_filename, '\"label\"', ' label ')\n",
    "replace_str(nodes_filename, '\"mass\"', ' mass ')\n",
    "replace_str(nodes_filename, '\"x\"', ' x ')\n",
    "replace_str(nodes_filename, '\"y\"', ' y ')\n",
    "# replace_str('pers_pub_net.json', '\"physics\"', ' physics ')\n",
    "# replace_str('pers_pub_net.json', '\"false\"', ' false ')\n",
    "\n",
    "replace_str(edges_filename, '\"value\"', ' value ')\n",
    "replace_str(edges_filename, '\"from\"', ' from ')\n",
    "replace_str(edges_filename, '\"title\"', ' title ')\n",
    "replace_str(edges_filename, '\"to\"', ' to ')\n",
    "replace_str(edges_filename, '\"hidden\"', ' hidden ')"
   ]
  },
  {
   "cell_type": "markdown",
   "metadata": {},
   "source": [
    "## setting up positions of nodes"
   ]
  },
  {
   "cell_type": "code",
   "execution_count": 47,
   "metadata": {},
   "outputs": [
    {
     "name": "stdout",
     "output_type": "stream",
     "text": [
      "213\n"
     ]
    },
    {
     "data": {
      "text/html": [
       "<div>\n",
       "<style scoped>\n",
       "    .dataframe tbody tr th:only-of-type {\n",
       "        vertical-align: middle;\n",
       "    }\n",
       "\n",
       "    .dataframe tbody tr th {\n",
       "        vertical-align: top;\n",
       "    }\n",
       "\n",
       "    .dataframe thead th {\n",
       "        text-align: right;\n",
       "    }\n",
       "</style>\n",
       "<table border=\"1\" class=\"dataframe\">\n",
       "  <thead>\n",
       "    <tr style=\"text-align: right;\">\n",
       "      <th></th>\n",
       "      <th>id</th>\n",
       "      <th>x</th>\n",
       "      <th>y</th>\n",
       "    </tr>\n",
       "  </thead>\n",
       "  <tbody>\n",
       "    <tr>\n",
       "      <th>0</th>\n",
       "      <td>6504204735</td>\n",
       "      <td>172</td>\n",
       "      <td>645</td>\n",
       "    </tr>\n",
       "    <tr>\n",
       "      <th>1</th>\n",
       "      <td>6507019256</td>\n",
       "      <td>7662</td>\n",
       "      <td>332</td>\n",
       "    </tr>\n",
       "    <tr>\n",
       "      <th>2</th>\n",
       "      <td>6507110909</td>\n",
       "      <td>-3593</td>\n",
       "      <td>1773</td>\n",
       "    </tr>\n",
       "    <tr>\n",
       "      <th>3</th>\n",
       "      <td>6507129797</td>\n",
       "      <td>-255</td>\n",
       "      <td>4595</td>\n",
       "    </tr>\n",
       "    <tr>\n",
       "      <th>4</th>\n",
       "      <td>6507497064</td>\n",
       "      <td>605</td>\n",
       "      <td>870</td>\n",
       "    </tr>\n",
       "  </tbody>\n",
       "</table>\n",
       "</div>"
      ],
      "text/plain": [
       "           id     x     y\n",
       "0  6504204735   172   645\n",
       "1  6507019256  7662   332\n",
       "2  6507110909 -3593  1773\n",
       "3  6507129797  -255  4595\n",
       "4  6507497064   605   870"
      ]
     },
     "execution_count": 47,
     "metadata": {},
     "output_type": "execute_result"
    }
   ],
   "source": [
    "positions = pd.read_json('positions_data/' + quartiles + '_positions.json', orient='records')\n",
    "print(len(positions))\n",
    "positions.head()"
   ]
  },
  {
   "cell_type": "code",
   "execution_count": 48,
   "metadata": {},
   "outputs": [],
   "source": [
    "nodes_with_coord = nodes.merge(right=positions, left_on='id', right_on='id', validate='one_to_one')\n",
    "nodes_with_coord = nodes_with_coord.sort_values('mass', ascending=False)"
   ]
  },
  {
   "cell_type": "code",
   "execution_count": 49,
   "metadata": {},
   "outputs": [],
   "source": [
    "edges_filename = 'edges ' + quartiles + '.json'\n",
    "nodes_filename = 'nodes_coord ' + quartiles + '.json'\n",
    "\n",
    "edges.to_json(edges_filename, orient='records', force_ascii=True)\n",
    "nodes_with_coord.to_json(nodes_filename, orient='records', force_ascii=True)\n",
    "\n",
    "replace_str(nodes_filename, '\"title\"', ' title ')\n",
    "replace_str(nodes_filename, '\"value\"', ' value ')\n",
    "replace_str(nodes_filename, '\"group\"', ' group ')\n",
    "replace_str(nodes_filename, '\"id\"', ' id ')\n",
    "replace_str(nodes_filename, '\"label\"', ' label ')\n",
    "replace_str(nodes_filename, '\"mass\"', ' mass ')\n",
    "replace_str(nodes_filename, '\"x\"', ' x ')\n",
    "replace_str(nodes_filename, '\"y\"', ' y ')\n",
    "# replace_str('pers_pub_net.json', '\"physics\"', ' physics ')\n",
    "# replace_str('pers_pub_net.json', '\"false\"', ' false ')\n",
    "\n",
    "replace_str(edges_filename, '\"value\"', ' value ')\n",
    "replace_str(edges_filename, '\"from\"', ' from ')\n",
    "replace_str(edges_filename, '\"title\"', ' title ')\n",
    "replace_str(edges_filename, '\"to\"', ' to ')\n",
    "replace_str(edges_filename, '\"hidden\"', ' hidden ')"
   ]
  },
  {
   "cell_type": "code",
   "execution_count": null,
   "metadata": {},
   "outputs": [],
   "source": []
  },
  {
   "cell_type": "code",
   "execution_count": null,
   "metadata": {},
   "outputs": [],
   "source": []
  },
  {
   "cell_type": "markdown",
   "metadata": {
    "collapsed": true
   },
   "source": [
    "stucked_names = core_df.loc[:, 'Авторы']\n",
    "stucked_names.head()"
   ]
  },
  {
   "cell_type": "markdown",
   "metadata": {},
   "source": [
    "def split_names(stucked_names_entry):\n",
    "    splitted = stucked_names_entry.split('\\n')\n",
    "    str_list = []\n",
    "    for substr in splitted:\n",
    "        temp = ' '.join(substr.split())\n",
    "        str_list.append(temp)\n",
    "    str_list = list(filter(None, str_list))\n",
    "    return str_list"
   ]
  },
  {
   "cell_type": "markdown",
   "metadata": {},
   "source": [
    "def pairwise(t):\n",
    "    it = iter(t)\n",
    "    return zip(it,it)"
   ]
  },
  {
   "cell_type": "markdown",
   "metadata": {},
   "source": [
    "def detect_faculty(str_with_faculty):\n",
    "    selector = {\n",
    "        str_with_faculty.find('МТ'): 'МТ',\n",
    "        str_with_faculty.find('ИУ'): 'ИУ',\n",
    "        str_with_faculty.find('РЛ'): 'РЛ',\n",
    "        str_with_faculty.find('ФН'): 'ФН',\n",
    "        str_with_faculty.find('СМ'): 'СМ',\n",
    "        str_with_faculty.find('Э'): 'Э',\n",
    "        str_with_faculty.find('РК'): 'РК',\n",
    "        str_with_faculty.find('БМТ'): 'БМТ',\n",
    "        str_with_faculty.find('Л'): 'Л',\n",
    "        str_with_faculty.find('ИБМ'): 'ИБМ',\n",
    "        str_with_faculty.find('СГН'): 'СГН',\n",
    "        str_with_faculty.find('РКТ'): 'РКТ',\n",
    "        str_with_faculty.find('АК'): 'АК',\n",
    "        str_with_faculty.find('ПС'): 'ПС',\n",
    "        str_with_faculty.find('РТ'): 'РТ',\n",
    "        str_with_faculty.find('ОЭП'): 'ОЭП',\n",
    "        str_with_faculty.find('ЮР'): 'ЮР',\n",
    "        str_with_faculty.find('ГУИМЦ'): 'ГУИМЦ',\n",
    "        str_with_faculty.find('ФМОП'): 'ФМОП',\n",
    "        str_with_faculty.find('ФВО'): 'ФВО',\n",
    "    }\n",
    "    try:\n",
    "        sel = selector[True]\n",
    "        assert(type(sel) == str), 'Multiple faculties detected: {}'.format(type(sel))\n",
    "        return sel\n",
    "    except KeyError as e:\n",
    "        return 'Other'"
   ]
  },
  {
   "cell_type": "markdown",
   "metadata": {},
   "source": [
    "def process_group_of_names_df(group_of_names, personal_publications_df, pair_publications_df):\n",
    "    splitted = split_names(group_of_names)\n",
    "    name_position_pairs = pairwise(splitted)\n",
    "    bmstu_members = [entry for entry in name_position_pairs if (entry[1].find('Не МГТУ') == -1)]\n",
    "    \n",
    "    \n",
    "    \n",
    "def process_group_of_names(group_of_names):\n",
    "    splitted = split_names(group_of_names)\n",
    "    name_position_pairs = pairwise(splitted)\n",
    "    bmstu_members = [entry for entry in name_position_pairs if (entry[1].find('Не МГТУ') == -1)]\n",
    "    \n",
    "    for entry in bmstu_members:\n",
    "        faculty = detect_faculty(entry[1])\n",
    "        personal_publications_num.setdefault(entry[0], [0, faculty])\n",
    "        personal_publications_num[entry[0]][0] += 1\n",
    "    for single_comb in combinations(bmstu_members, 2):\n",
    "        sorted_comb = sorted(single_comb, key=lambda tup: tup[0])\n",
    "        names_comb = (sorted_comb[0][0], sorted_comb[1][0])\n",
    "        pair_publications_num.setdefault(names_comb, 0)\n",
    "        pair_publications_num[names_comb] += 1"
   ]
  },
  {
   "cell_type": "markdown",
   "metadata": {},
   "source": [
    "personal_publications_num = {}\n",
    "pair_publications_num = {}\n",
    "stucked_names = core_df['Авторы']\n",
    "stucked_names.apply(process_group_of_names);"
   ]
  },
  {
   "cell_type": "markdown",
   "metadata": {},
   "source": [
    "personal_publications_num_df = pd.DataFrame.from_dict(personal_publications_num, orient='index',\n",
    "                                                      columns=['pub_num', 'faculty'])\n",
    "personal_publications_num_df.index.names = ['full_name']\n",
    "personal_publications_num_df.reset_index(inplace=True)\n",
    "personal_publications_num_df.loc[:, 'id'] = personal_publications_num_df.apply(lambda row: id(row['full_name']),\n",
    "                                                                               axis=1)\n",
    "\n",
    "\n",
    "pair_publications_num_df = pd.DataFrame.from_dict(pair_publications_num, orient='index', columns=['pair_pub_num'])\n",
    "pair_publications_num_df.index.names = ['names_pair']\n",
    "pair_publications_num_df.reset_index(inplace=True)\n",
    "get_ids = lambda row: pd.Series([id(row['names_pair'][0]),\n",
    "                                 id(row['names_pair'][1])])\n",
    "pair_publications_num_df[['name1_id', 'name2_id']] = pair_publications_num_df.apply(get_ids, axis=1)"
   ]
  },
  {
   "cell_type": "markdown",
   "metadata": {},
   "source": [
    "def append_key_data(row):\n",
    "     return row.loc['full_name'] + ' (' + str(row.loc['pub_num']) + ', ' + row.loc['faculty'] + ')'"
   ]
  },
  {
   "cell_type": "markdown",
   "metadata": {},
   "source": [
    "personal_publications_num_df['key_data'] = personal_publications_num_df.apply(\n",
    "    append_key_data, axis=1)"
   ]
  },
  {
   "cell_type": "markdown",
   "metadata": {},
   "source": [
    "personal_publications_num_network_format_df = personal_publications_num_df.rename(\n",
    "    columns={'key_data':'title', 'pub_num':'value', 'faculty':'group'})[['title', 'value', 'group', 'id']]\n",
    "pair_publications_num_network_format_df = pair_publications_num_df.rename(\n",
    "    columns={'pair_pub_num':'value', 'name1_id':'from', 'name2_id':'to'})[['value', 'from', 'to']]"
   ]
  },
  {
   "cell_type": "markdown",
   "metadata": {},
   "source": [
    "personal_publications_num_network_format_df.to_json('pers_pub_net.json', orient='records')\n",
    "pair_publications_num_network_format_df.to_json('pair_pub_net.json', orient='records')"
   ]
  },
  {
   "cell_type": "code",
   "execution_count": null,
   "metadata": {},
   "outputs": [],
   "source": []
  }
 ],
 "metadata": {
  "kernelspec": {
   "display_name": "new-kernel-4",
   "language": "python",
   "name": "new-kernel-4"
  },
  "language_info": {
   "codemirror_mode": {
    "name": "ipython",
    "version": 3
   },
   "file_extension": ".py",
   "mimetype": "text/x-python",
   "name": "python",
   "nbconvert_exporter": "python",
   "pygments_lexer": "ipython3",
   "version": "3.7.0"
  }
 },
 "nbformat": 4,
 "nbformat_minor": 2
}
